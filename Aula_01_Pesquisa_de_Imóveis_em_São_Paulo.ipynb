{
  "nbformat": 4,
  "nbformat_minor": 0,
  "metadata": {
    "colab": {
      "name": "Aula 01 - Pesquisa de Imóveis em São Paulo.ipynb",
      "provenance": [],
      "collapsed_sections": [],
      "authorship_tag": "ABX9TyPmgvjCbGje9/N4nLiezOle",
      "include_colab_link": true
    },
    "kernelspec": {
      "name": "python3",
      "display_name": "Python 3"
    },
    "language_info": {
      "name": "python"
    }
  },
  "cells": [
    {
      "cell_type": "markdown",
      "metadata": {
        "id": "view-in-github",
        "colab_type": "text"
      },
      "source": [
        "<a href=\"https://colab.research.google.com/github/lucascatunda/Imersao_dados_4_2022_Alura/blob/main/Aula_01_Pesquisa_de_Im%C3%B3veis_em_S%C3%A3o_Paulo.ipynb\" target=\"_parent\"><img src=\"https://colab.research.google.com/assets/colab-badge.svg\" alt=\"Open In Colab\"/></a>"
      ]
    },
    {
      "cell_type": "markdown",
      "source": [
        "# **Aula 01**\n"
      ],
      "metadata": {
        "id": "_McYlNrRgTfH"
      }
    },
    {
      "cell_type": "markdown",
      "source": [
        "Primeiramente, vamos importar o banco de dados para o nosso notebook. Para isso, primeiramente, importamos os banco de dados e chamados o conteúdo presente no github."
      ],
      "metadata": {
        "id": "lLEkViuJd6Yg"
      }
    },
    {
      "cell_type": "code",
      "execution_count": 1,
      "metadata": {
        "id": "bMvkjjqUvBza"
      },
      "outputs": [],
      "source": [
        "import pandas as pd\n",
        "\n",
        "dados = \"https://gist.githubusercontent.com/tgcsantos/3bdb29eba6ce391e90df2b72205ba891/raw/22fa920e80c9fa209a9fccc8b52d74cc95d1599b/dados_imoveis.csv\"\n",
        "df = pd.read_csv(dados)"
      ]
    },
    {
      "cell_type": "markdown",
      "source": [
        "Para checar se os dados estão devidamente estruturados, chamamos a função head() para avaliar a estrutura dos 5 primeiros valores da tabela."
      ],
      "metadata": {
        "id": "e-sJ7BMjeHrI"
      }
    },
    {
      "cell_type": "code",
      "source": [
        "df.head()"
      ],
      "metadata": {
        "colab": {
          "base_uri": "https://localhost:8080/",
          "height": 206
        },
        "id": "ddF2ptJRBVu3",
        "outputId": "34e8c3da-eb96-49d6-b1e0-db27164792f0"
      },
      "execution_count": 2,
      "outputs": [
        {
          "output_type": "execute_result",
          "data": {
            "text/plain": [
              "                              Rua              Bairro     Cidade  Metragem  \\\n",
              "0           Avenida Itacira, 255    Planalto Paulista  São Paulo      1000   \n",
              "1  Rua Aurelia Perez Alvarez, 42   Jardim dos Estados  São Paulo       496   \n",
              "2                 Rua Alba Valdez     Jardim Reimberg  São Paulo       125   \n",
              "3                             NaN      Jardim Morumbi  São Paulo       310   \n",
              "4        Rua Tobias Barreto, 195                Mooca  São Paulo       100   \n",
              "\n",
              "   Quartos  Banheiros  Vagas         Valor  \n",
              "0        4          8      6  R$ 7.000.000  \n",
              "1        4          4      4  R$ 3.700.000  \n",
              "2        4          3      2    R$ 380.000  \n",
              "3        3          2      4    R$ 685.000  \n",
              "4        3          2      2    R$ 540.000  "
            ],
            "text/html": [
              "\n",
              "  <div id=\"df-fb796a41-3bcf-41b5-8019-0ddd9a108e18\">\n",
              "    <div class=\"colab-df-container\">\n",
              "      <div>\n",
              "<style scoped>\n",
              "    .dataframe tbody tr th:only-of-type {\n",
              "        vertical-align: middle;\n",
              "    }\n",
              "\n",
              "    .dataframe tbody tr th {\n",
              "        vertical-align: top;\n",
              "    }\n",
              "\n",
              "    .dataframe thead th {\n",
              "        text-align: right;\n",
              "    }\n",
              "</style>\n",
              "<table border=\"1\" class=\"dataframe\">\n",
              "  <thead>\n",
              "    <tr style=\"text-align: right;\">\n",
              "      <th></th>\n",
              "      <th>Rua</th>\n",
              "      <th>Bairro</th>\n",
              "      <th>Cidade</th>\n",
              "      <th>Metragem</th>\n",
              "      <th>Quartos</th>\n",
              "      <th>Banheiros</th>\n",
              "      <th>Vagas</th>\n",
              "      <th>Valor</th>\n",
              "    </tr>\n",
              "  </thead>\n",
              "  <tbody>\n",
              "    <tr>\n",
              "      <th>0</th>\n",
              "      <td>Avenida Itacira, 255</td>\n",
              "      <td>Planalto Paulista</td>\n",
              "      <td>São Paulo</td>\n",
              "      <td>1000</td>\n",
              "      <td>4</td>\n",
              "      <td>8</td>\n",
              "      <td>6</td>\n",
              "      <td>R$ 7.000.000</td>\n",
              "    </tr>\n",
              "    <tr>\n",
              "      <th>1</th>\n",
              "      <td>Rua Aurelia Perez Alvarez, 42</td>\n",
              "      <td>Jardim dos Estados</td>\n",
              "      <td>São Paulo</td>\n",
              "      <td>496</td>\n",
              "      <td>4</td>\n",
              "      <td>4</td>\n",
              "      <td>4</td>\n",
              "      <td>R$ 3.700.000</td>\n",
              "    </tr>\n",
              "    <tr>\n",
              "      <th>2</th>\n",
              "      <td>Rua Alba Valdez</td>\n",
              "      <td>Jardim Reimberg</td>\n",
              "      <td>São Paulo</td>\n",
              "      <td>125</td>\n",
              "      <td>4</td>\n",
              "      <td>3</td>\n",
              "      <td>2</td>\n",
              "      <td>R$ 380.000</td>\n",
              "    </tr>\n",
              "    <tr>\n",
              "      <th>3</th>\n",
              "      <td>NaN</td>\n",
              "      <td>Jardim Morumbi</td>\n",
              "      <td>São Paulo</td>\n",
              "      <td>310</td>\n",
              "      <td>3</td>\n",
              "      <td>2</td>\n",
              "      <td>4</td>\n",
              "      <td>R$ 685.000</td>\n",
              "    </tr>\n",
              "    <tr>\n",
              "      <th>4</th>\n",
              "      <td>Rua Tobias Barreto, 195</td>\n",
              "      <td>Mooca</td>\n",
              "      <td>São Paulo</td>\n",
              "      <td>100</td>\n",
              "      <td>3</td>\n",
              "      <td>2</td>\n",
              "      <td>2</td>\n",
              "      <td>R$ 540.000</td>\n",
              "    </tr>\n",
              "  </tbody>\n",
              "</table>\n",
              "</div>\n",
              "      <button class=\"colab-df-convert\" onclick=\"convertToInteractive('df-fb796a41-3bcf-41b5-8019-0ddd9a108e18')\"\n",
              "              title=\"Convert this dataframe to an interactive table.\"\n",
              "              style=\"display:none;\">\n",
              "        \n",
              "  <svg xmlns=\"http://www.w3.org/2000/svg\" height=\"24px\"viewBox=\"0 0 24 24\"\n",
              "       width=\"24px\">\n",
              "    <path d=\"M0 0h24v24H0V0z\" fill=\"none\"/>\n",
              "    <path d=\"M18.56 5.44l.94 2.06.94-2.06 2.06-.94-2.06-.94-.94-2.06-.94 2.06-2.06.94zm-11 1L8.5 8.5l.94-2.06 2.06-.94-2.06-.94L8.5 2.5l-.94 2.06-2.06.94zm10 10l.94 2.06.94-2.06 2.06-.94-2.06-.94-.94-2.06-.94 2.06-2.06.94z\"/><path d=\"M17.41 7.96l-1.37-1.37c-.4-.4-.92-.59-1.43-.59-.52 0-1.04.2-1.43.59L10.3 9.45l-7.72 7.72c-.78.78-.78 2.05 0 2.83L4 21.41c.39.39.9.59 1.41.59.51 0 1.02-.2 1.41-.59l7.78-7.78 2.81-2.81c.8-.78.8-2.07 0-2.86zM5.41 20L4 18.59l7.72-7.72 1.47 1.35L5.41 20z\"/>\n",
              "  </svg>\n",
              "      </button>\n",
              "      \n",
              "  <style>\n",
              "    .colab-df-container {\n",
              "      display:flex;\n",
              "      flex-wrap:wrap;\n",
              "      gap: 12px;\n",
              "    }\n",
              "\n",
              "    .colab-df-convert {\n",
              "      background-color: #E8F0FE;\n",
              "      border: none;\n",
              "      border-radius: 50%;\n",
              "      cursor: pointer;\n",
              "      display: none;\n",
              "      fill: #1967D2;\n",
              "      height: 32px;\n",
              "      padding: 0 0 0 0;\n",
              "      width: 32px;\n",
              "    }\n",
              "\n",
              "    .colab-df-convert:hover {\n",
              "      background-color: #E2EBFA;\n",
              "      box-shadow: 0px 1px 2px rgba(60, 64, 67, 0.3), 0px 1px 3px 1px rgba(60, 64, 67, 0.15);\n",
              "      fill: #174EA6;\n",
              "    }\n",
              "\n",
              "    [theme=dark] .colab-df-convert {\n",
              "      background-color: #3B4455;\n",
              "      fill: #D2E3FC;\n",
              "    }\n",
              "\n",
              "    [theme=dark] .colab-df-convert:hover {\n",
              "      background-color: #434B5C;\n",
              "      box-shadow: 0px 1px 3px 1px rgba(0, 0, 0, 0.15);\n",
              "      filter: drop-shadow(0px 1px 2px rgba(0, 0, 0, 0.3));\n",
              "      fill: #FFFFFF;\n",
              "    }\n",
              "  </style>\n",
              "\n",
              "      <script>\n",
              "        const buttonEl =\n",
              "          document.querySelector('#df-fb796a41-3bcf-41b5-8019-0ddd9a108e18 button.colab-df-convert');\n",
              "        buttonEl.style.display =\n",
              "          google.colab.kernel.accessAllowed ? 'block' : 'none';\n",
              "\n",
              "        async function convertToInteractive(key) {\n",
              "          const element = document.querySelector('#df-fb796a41-3bcf-41b5-8019-0ddd9a108e18');\n",
              "          const dataTable =\n",
              "            await google.colab.kernel.invokeFunction('convertToInteractive',\n",
              "                                                     [key], {});\n",
              "          if (!dataTable) return;\n",
              "\n",
              "          const docLinkHtml = 'Like what you see? Visit the ' +\n",
              "            '<a target=\"_blank\" href=https://colab.research.google.com/notebooks/data_table.ipynb>data table notebook</a>'\n",
              "            + ' to learn more about interactive tables.';\n",
              "          element.innerHTML = '';\n",
              "          dataTable['output_type'] = 'display_data';\n",
              "          await google.colab.output.renderOutput(dataTable, element);\n",
              "          const docLink = document.createElement('div');\n",
              "          docLink.innerHTML = docLinkHtml;\n",
              "          element.appendChild(docLink);\n",
              "        }\n",
              "      </script>\n",
              "    </div>\n",
              "  </div>\n",
              "  "
            ]
          },
          "metadata": {},
          "execution_count": 2
        }
      ]
    },
    {
      "cell_type": "markdown",
      "source": [
        "Uma outra forma de avaliar o banco de dados seria de selecionar aleatoriamente um valor chamando a função .sample()"
      ],
      "metadata": {
        "id": "m5mS-4XYePm_"
      }
    },
    {
      "cell_type": "code",
      "source": [
        "df.sample()"
      ],
      "metadata": {
        "colab": {
          "base_uri": "https://localhost:8080/",
          "height": 81
        },
        "id": "MjUdhxJ-ChLl",
        "outputId": "888cc03f-cb64-4601-f55d-10a52faecd08"
      },
      "execution_count": 3,
      "outputs": [
        {
          "output_type": "execute_result",
          "data": {
            "text/plain": [
              "      Rua             Bairro     Cidade  Metragem  Quartos  Banheiros  Vagas  \\\n",
              "1636  NaN  Brooklin Paulista  São Paulo       502        3          5      3   \n",
              "\n",
              "             Valor  \n",
              "1636  R$ 3.500.000  "
            ],
            "text/html": [
              "\n",
              "  <div id=\"df-64d2a320-ef3e-4a51-81fb-b9d114112ce7\">\n",
              "    <div class=\"colab-df-container\">\n",
              "      <div>\n",
              "<style scoped>\n",
              "    .dataframe tbody tr th:only-of-type {\n",
              "        vertical-align: middle;\n",
              "    }\n",
              "\n",
              "    .dataframe tbody tr th {\n",
              "        vertical-align: top;\n",
              "    }\n",
              "\n",
              "    .dataframe thead th {\n",
              "        text-align: right;\n",
              "    }\n",
              "</style>\n",
              "<table border=\"1\" class=\"dataframe\">\n",
              "  <thead>\n",
              "    <tr style=\"text-align: right;\">\n",
              "      <th></th>\n",
              "      <th>Rua</th>\n",
              "      <th>Bairro</th>\n",
              "      <th>Cidade</th>\n",
              "      <th>Metragem</th>\n",
              "      <th>Quartos</th>\n",
              "      <th>Banheiros</th>\n",
              "      <th>Vagas</th>\n",
              "      <th>Valor</th>\n",
              "    </tr>\n",
              "  </thead>\n",
              "  <tbody>\n",
              "    <tr>\n",
              "      <th>1636</th>\n",
              "      <td>NaN</td>\n",
              "      <td>Brooklin Paulista</td>\n",
              "      <td>São Paulo</td>\n",
              "      <td>502</td>\n",
              "      <td>3</td>\n",
              "      <td>5</td>\n",
              "      <td>3</td>\n",
              "      <td>R$ 3.500.000</td>\n",
              "    </tr>\n",
              "  </tbody>\n",
              "</table>\n",
              "</div>\n",
              "      <button class=\"colab-df-convert\" onclick=\"convertToInteractive('df-64d2a320-ef3e-4a51-81fb-b9d114112ce7')\"\n",
              "              title=\"Convert this dataframe to an interactive table.\"\n",
              "              style=\"display:none;\">\n",
              "        \n",
              "  <svg xmlns=\"http://www.w3.org/2000/svg\" height=\"24px\"viewBox=\"0 0 24 24\"\n",
              "       width=\"24px\">\n",
              "    <path d=\"M0 0h24v24H0V0z\" fill=\"none\"/>\n",
              "    <path d=\"M18.56 5.44l.94 2.06.94-2.06 2.06-.94-2.06-.94-.94-2.06-.94 2.06-2.06.94zm-11 1L8.5 8.5l.94-2.06 2.06-.94-2.06-.94L8.5 2.5l-.94 2.06-2.06.94zm10 10l.94 2.06.94-2.06 2.06-.94-2.06-.94-.94-2.06-.94 2.06-2.06.94z\"/><path d=\"M17.41 7.96l-1.37-1.37c-.4-.4-.92-.59-1.43-.59-.52 0-1.04.2-1.43.59L10.3 9.45l-7.72 7.72c-.78.78-.78 2.05 0 2.83L4 21.41c.39.39.9.59 1.41.59.51 0 1.02-.2 1.41-.59l7.78-7.78 2.81-2.81c.8-.78.8-2.07 0-2.86zM5.41 20L4 18.59l7.72-7.72 1.47 1.35L5.41 20z\"/>\n",
              "  </svg>\n",
              "      </button>\n",
              "      \n",
              "  <style>\n",
              "    .colab-df-container {\n",
              "      display:flex;\n",
              "      flex-wrap:wrap;\n",
              "      gap: 12px;\n",
              "    }\n",
              "\n",
              "    .colab-df-convert {\n",
              "      background-color: #E8F0FE;\n",
              "      border: none;\n",
              "      border-radius: 50%;\n",
              "      cursor: pointer;\n",
              "      display: none;\n",
              "      fill: #1967D2;\n",
              "      height: 32px;\n",
              "      padding: 0 0 0 0;\n",
              "      width: 32px;\n",
              "    }\n",
              "\n",
              "    .colab-df-convert:hover {\n",
              "      background-color: #E2EBFA;\n",
              "      box-shadow: 0px 1px 2px rgba(60, 64, 67, 0.3), 0px 1px 3px 1px rgba(60, 64, 67, 0.15);\n",
              "      fill: #174EA6;\n",
              "    }\n",
              "\n",
              "    [theme=dark] .colab-df-convert {\n",
              "      background-color: #3B4455;\n",
              "      fill: #D2E3FC;\n",
              "    }\n",
              "\n",
              "    [theme=dark] .colab-df-convert:hover {\n",
              "      background-color: #434B5C;\n",
              "      box-shadow: 0px 1px 3px 1px rgba(0, 0, 0, 0.15);\n",
              "      filter: drop-shadow(0px 1px 2px rgba(0, 0, 0, 0.3));\n",
              "      fill: #FFFFFF;\n",
              "    }\n",
              "  </style>\n",
              "\n",
              "      <script>\n",
              "        const buttonEl =\n",
              "          document.querySelector('#df-64d2a320-ef3e-4a51-81fb-b9d114112ce7 button.colab-df-convert');\n",
              "        buttonEl.style.display =\n",
              "          google.colab.kernel.accessAllowed ? 'block' : 'none';\n",
              "\n",
              "        async function convertToInteractive(key) {\n",
              "          const element = document.querySelector('#df-64d2a320-ef3e-4a51-81fb-b9d114112ce7');\n",
              "          const dataTable =\n",
              "            await google.colab.kernel.invokeFunction('convertToInteractive',\n",
              "                                                     [key], {});\n",
              "          if (!dataTable) return;\n",
              "\n",
              "          const docLinkHtml = 'Like what you see? Visit the ' +\n",
              "            '<a target=\"_blank\" href=https://colab.research.google.com/notebooks/data_table.ipynb>data table notebook</a>'\n",
              "            + ' to learn more about interactive tables.';\n",
              "          element.innerHTML = '';\n",
              "          dataTable['output_type'] = 'display_data';\n",
              "          await google.colab.output.renderOutput(dataTable, element);\n",
              "          const docLink = document.createElement('div');\n",
              "          docLink.innerHTML = docLinkHtml;\n",
              "          element.appendChild(docLink);\n",
              "        }\n",
              "      </script>\n",
              "    </div>\n",
              "  </div>\n",
              "  "
            ]
          },
          "metadata": {},
          "execution_count": 3
        }
      ]
    },
    {
      "cell_type": "markdown",
      "source": [
        "Agora, com o banco de dados estruturado, vamos definir o tipo de valor presente em cada coluna (float64, object, string...). Para isso chamamos a função .info()"
      ],
      "metadata": {
        "id": "iakGIrFNeVA2"
      }
    },
    {
      "cell_type": "code",
      "source": [
        "df.info()"
      ],
      "metadata": {
        "colab": {
          "base_uri": "https://localhost:8080/"
        },
        "id": "0OUX_PBtehzl",
        "outputId": "9c02bca6-1fd3-421d-9c65-ab193eac0000"
      },
      "execution_count": 4,
      "outputs": [
        {
          "output_type": "stream",
          "name": "stdout",
          "text": [
            "<class 'pandas.core.frame.DataFrame'>\n",
            "RangeIndex: 10008 entries, 0 to 10007\n",
            "Data columns (total 8 columns):\n",
            " #   Column     Non-Null Count  Dtype \n",
            "---  ------     --------------  ----- \n",
            " 0   Rua        6574 non-null   object\n",
            " 1   Bairro     9996 non-null   object\n",
            " 2   Cidade     10008 non-null  object\n",
            " 3   Metragem   10008 non-null  int64 \n",
            " 4   Quartos    10008 non-null  int64 \n",
            " 5   Banheiros  10008 non-null  int64 \n",
            " 6   Vagas      10008 non-null  int64 \n",
            " 7   Valor      10008 non-null  object\n",
            "dtypes: int64(4), object(4)\n",
            "memory usage: 625.6+ KB\n"
          ]
        }
      ]
    },
    {
      "cell_type": "markdown",
      "source": [
        "Por exemplo, podemos somar o número de casas que apresentam o bairro \"Vila Mariana\""
      ],
      "metadata": {
        "id": "zVsVoTtTp8IX"
      }
    },
    {
      "cell_type": "code",
      "source": [
        "sum((df[\"Bairro\"] == \"Vila Mariana\"))"
      ],
      "metadata": {
        "colab": {
          "base_uri": "https://localhost:8080/"
        },
        "id": "Vz74vi6GFhT8",
        "outputId": "e70a6049-8127-48bf-e9e5-617cbf9c310b"
      },
      "execution_count": 5,
      "outputs": [
        {
          "output_type": "execute_result",
          "data": {
            "text/plain": [
              "184"
            ]
          },
          "metadata": {},
          "execution_count": 5
        }
      ]
    },
    {
      "cell_type": "markdown",
      "source": [
        "Podemos montar um conjunto de dados que apresenta apenas casas que estão no bairro Vila Mariana. Utilizamos um tipo de filtro query para fazer esta operação."
      ],
      "metadata": {
        "id": "4_qMp2hC8h9k"
      }
    },
    {
      "cell_type": "code",
      "source": [
        "vila_mariana = \"Vila Mariana\"\n",
        "imoveis_vila_mariana = df.query(\"Bairro == @vila_mariana\")\n",
        "imoveis_vila_mariana"
      ],
      "metadata": {
        "colab": {
          "base_uri": "https://localhost:8080/",
          "height": 424
        },
        "id": "UlXQGDntFhY6",
        "outputId": "6e044484-614e-4a4e-c41e-a960ba78469f"
      },
      "execution_count": 6,
      "outputs": [
        {
          "output_type": "execute_result",
          "data": {
            "text/plain": [
              "                               Rua        Bairro     Cidade  Metragem  \\\n",
              "100               Rua Pero Correia  Vila Mariana  São Paulo       250   \n",
              "120   Praça Doutor Carvalho Franco  Vila Mariana  São Paulo       250   \n",
              "155     Rua Professor João Marinho  Vila Mariana  São Paulo       170   \n",
              "160                            NaN  Vila Mariana  São Paulo       228   \n",
              "334         Rua Pero Correia, 892   Vila Mariana  São Paulo       350   \n",
              "...                            ...           ...        ...       ...   \n",
              "9645               Rua Sousa Ramos  Vila Mariana  São Paulo       285   \n",
              "9701             Rua Benito Juarez  Vila Mariana  São Paulo       171   \n",
              "9737             Rua Benito Juarez  Vila Mariana  São Paulo       171   \n",
              "9807                           NaN  Vila Mariana  São Paulo       275   \n",
              "9852              Rua França Pinto  Vila Mariana  São Paulo       280   \n",
              "\n",
              "      Quartos  Banheiros  Vagas         Valor  \n",
              "100         3          3      1  R$ 1.350.000  \n",
              "120         3          5      2  R$ 2.450.000  \n",
              "155         3          4      2  R$ 1.490.000  \n",
              "160         4          5      3  R$ 2.200.000  \n",
              "334         6          4     10  R$ 1.700.000  \n",
              "...       ...        ...    ...           ...  \n",
              "9645        3          5      5  R$ 1.650.000  \n",
              "9701        3          2      4  R$ 1.650.000  \n",
              "9737        3          2      4  R$ 1.650.000  \n",
              "9807        3          1      6  R$ 1.500.000  \n",
              "9852        3          3      4  R$ 1.600.000  \n",
              "\n",
              "[184 rows x 8 columns]"
            ],
            "text/html": [
              "\n",
              "  <div id=\"df-08449115-c595-4bd4-8898-1a6454d6f343\">\n",
              "    <div class=\"colab-df-container\">\n",
              "      <div>\n",
              "<style scoped>\n",
              "    .dataframe tbody tr th:only-of-type {\n",
              "        vertical-align: middle;\n",
              "    }\n",
              "\n",
              "    .dataframe tbody tr th {\n",
              "        vertical-align: top;\n",
              "    }\n",
              "\n",
              "    .dataframe thead th {\n",
              "        text-align: right;\n",
              "    }\n",
              "</style>\n",
              "<table border=\"1\" class=\"dataframe\">\n",
              "  <thead>\n",
              "    <tr style=\"text-align: right;\">\n",
              "      <th></th>\n",
              "      <th>Rua</th>\n",
              "      <th>Bairro</th>\n",
              "      <th>Cidade</th>\n",
              "      <th>Metragem</th>\n",
              "      <th>Quartos</th>\n",
              "      <th>Banheiros</th>\n",
              "      <th>Vagas</th>\n",
              "      <th>Valor</th>\n",
              "    </tr>\n",
              "  </thead>\n",
              "  <tbody>\n",
              "    <tr>\n",
              "      <th>100</th>\n",
              "      <td>Rua Pero Correia</td>\n",
              "      <td>Vila Mariana</td>\n",
              "      <td>São Paulo</td>\n",
              "      <td>250</td>\n",
              "      <td>3</td>\n",
              "      <td>3</td>\n",
              "      <td>1</td>\n",
              "      <td>R$ 1.350.000</td>\n",
              "    </tr>\n",
              "    <tr>\n",
              "      <th>120</th>\n",
              "      <td>Praça Doutor Carvalho Franco</td>\n",
              "      <td>Vila Mariana</td>\n",
              "      <td>São Paulo</td>\n",
              "      <td>250</td>\n",
              "      <td>3</td>\n",
              "      <td>5</td>\n",
              "      <td>2</td>\n",
              "      <td>R$ 2.450.000</td>\n",
              "    </tr>\n",
              "    <tr>\n",
              "      <th>155</th>\n",
              "      <td>Rua Professor João Marinho</td>\n",
              "      <td>Vila Mariana</td>\n",
              "      <td>São Paulo</td>\n",
              "      <td>170</td>\n",
              "      <td>3</td>\n",
              "      <td>4</td>\n",
              "      <td>2</td>\n",
              "      <td>R$ 1.490.000</td>\n",
              "    </tr>\n",
              "    <tr>\n",
              "      <th>160</th>\n",
              "      <td>NaN</td>\n",
              "      <td>Vila Mariana</td>\n",
              "      <td>São Paulo</td>\n",
              "      <td>228</td>\n",
              "      <td>4</td>\n",
              "      <td>5</td>\n",
              "      <td>3</td>\n",
              "      <td>R$ 2.200.000</td>\n",
              "    </tr>\n",
              "    <tr>\n",
              "      <th>334</th>\n",
              "      <td>Rua Pero Correia, 892</td>\n",
              "      <td>Vila Mariana</td>\n",
              "      <td>São Paulo</td>\n",
              "      <td>350</td>\n",
              "      <td>6</td>\n",
              "      <td>4</td>\n",
              "      <td>10</td>\n",
              "      <td>R$ 1.700.000</td>\n",
              "    </tr>\n",
              "    <tr>\n",
              "      <th>...</th>\n",
              "      <td>...</td>\n",
              "      <td>...</td>\n",
              "      <td>...</td>\n",
              "      <td>...</td>\n",
              "      <td>...</td>\n",
              "      <td>...</td>\n",
              "      <td>...</td>\n",
              "      <td>...</td>\n",
              "    </tr>\n",
              "    <tr>\n",
              "      <th>9645</th>\n",
              "      <td>Rua Sousa Ramos</td>\n",
              "      <td>Vila Mariana</td>\n",
              "      <td>São Paulo</td>\n",
              "      <td>285</td>\n",
              "      <td>3</td>\n",
              "      <td>5</td>\n",
              "      <td>5</td>\n",
              "      <td>R$ 1.650.000</td>\n",
              "    </tr>\n",
              "    <tr>\n",
              "      <th>9701</th>\n",
              "      <td>Rua Benito Juarez</td>\n",
              "      <td>Vila Mariana</td>\n",
              "      <td>São Paulo</td>\n",
              "      <td>171</td>\n",
              "      <td>3</td>\n",
              "      <td>2</td>\n",
              "      <td>4</td>\n",
              "      <td>R$ 1.650.000</td>\n",
              "    </tr>\n",
              "    <tr>\n",
              "      <th>9737</th>\n",
              "      <td>Rua Benito Juarez</td>\n",
              "      <td>Vila Mariana</td>\n",
              "      <td>São Paulo</td>\n",
              "      <td>171</td>\n",
              "      <td>3</td>\n",
              "      <td>2</td>\n",
              "      <td>4</td>\n",
              "      <td>R$ 1.650.000</td>\n",
              "    </tr>\n",
              "    <tr>\n",
              "      <th>9807</th>\n",
              "      <td>NaN</td>\n",
              "      <td>Vila Mariana</td>\n",
              "      <td>São Paulo</td>\n",
              "      <td>275</td>\n",
              "      <td>3</td>\n",
              "      <td>1</td>\n",
              "      <td>6</td>\n",
              "      <td>R$ 1.500.000</td>\n",
              "    </tr>\n",
              "    <tr>\n",
              "      <th>9852</th>\n",
              "      <td>Rua França Pinto</td>\n",
              "      <td>Vila Mariana</td>\n",
              "      <td>São Paulo</td>\n",
              "      <td>280</td>\n",
              "      <td>3</td>\n",
              "      <td>3</td>\n",
              "      <td>4</td>\n",
              "      <td>R$ 1.600.000</td>\n",
              "    </tr>\n",
              "  </tbody>\n",
              "</table>\n",
              "<p>184 rows × 8 columns</p>\n",
              "</div>\n",
              "      <button class=\"colab-df-convert\" onclick=\"convertToInteractive('df-08449115-c595-4bd4-8898-1a6454d6f343')\"\n",
              "              title=\"Convert this dataframe to an interactive table.\"\n",
              "              style=\"display:none;\">\n",
              "        \n",
              "  <svg xmlns=\"http://www.w3.org/2000/svg\" height=\"24px\"viewBox=\"0 0 24 24\"\n",
              "       width=\"24px\">\n",
              "    <path d=\"M0 0h24v24H0V0z\" fill=\"none\"/>\n",
              "    <path d=\"M18.56 5.44l.94 2.06.94-2.06 2.06-.94-2.06-.94-.94-2.06-.94 2.06-2.06.94zm-11 1L8.5 8.5l.94-2.06 2.06-.94-2.06-.94L8.5 2.5l-.94 2.06-2.06.94zm10 10l.94 2.06.94-2.06 2.06-.94-2.06-.94-.94-2.06-.94 2.06-2.06.94z\"/><path d=\"M17.41 7.96l-1.37-1.37c-.4-.4-.92-.59-1.43-.59-.52 0-1.04.2-1.43.59L10.3 9.45l-7.72 7.72c-.78.78-.78 2.05 0 2.83L4 21.41c.39.39.9.59 1.41.59.51 0 1.02-.2 1.41-.59l7.78-7.78 2.81-2.81c.8-.78.8-2.07 0-2.86zM5.41 20L4 18.59l7.72-7.72 1.47 1.35L5.41 20z\"/>\n",
              "  </svg>\n",
              "      </button>\n",
              "      \n",
              "  <style>\n",
              "    .colab-df-container {\n",
              "      display:flex;\n",
              "      flex-wrap:wrap;\n",
              "      gap: 12px;\n",
              "    }\n",
              "\n",
              "    .colab-df-convert {\n",
              "      background-color: #E8F0FE;\n",
              "      border: none;\n",
              "      border-radius: 50%;\n",
              "      cursor: pointer;\n",
              "      display: none;\n",
              "      fill: #1967D2;\n",
              "      height: 32px;\n",
              "      padding: 0 0 0 0;\n",
              "      width: 32px;\n",
              "    }\n",
              "\n",
              "    .colab-df-convert:hover {\n",
              "      background-color: #E2EBFA;\n",
              "      box-shadow: 0px 1px 2px rgba(60, 64, 67, 0.3), 0px 1px 3px 1px rgba(60, 64, 67, 0.15);\n",
              "      fill: #174EA6;\n",
              "    }\n",
              "\n",
              "    [theme=dark] .colab-df-convert {\n",
              "      background-color: #3B4455;\n",
              "      fill: #D2E3FC;\n",
              "    }\n",
              "\n",
              "    [theme=dark] .colab-df-convert:hover {\n",
              "      background-color: #434B5C;\n",
              "      box-shadow: 0px 1px 3px 1px rgba(0, 0, 0, 0.15);\n",
              "      filter: drop-shadow(0px 1px 2px rgba(0, 0, 0, 0.3));\n",
              "      fill: #FFFFFF;\n",
              "    }\n",
              "  </style>\n",
              "\n",
              "      <script>\n",
              "        const buttonEl =\n",
              "          document.querySelector('#df-08449115-c595-4bd4-8898-1a6454d6f343 button.colab-df-convert');\n",
              "        buttonEl.style.display =\n",
              "          google.colab.kernel.accessAllowed ? 'block' : 'none';\n",
              "\n",
              "        async function convertToInteractive(key) {\n",
              "          const element = document.querySelector('#df-08449115-c595-4bd4-8898-1a6454d6f343');\n",
              "          const dataTable =\n",
              "            await google.colab.kernel.invokeFunction('convertToInteractive',\n",
              "                                                     [key], {});\n",
              "          if (!dataTable) return;\n",
              "\n",
              "          const docLinkHtml = 'Like what you see? Visit the ' +\n",
              "            '<a target=\"_blank\" href=https://colab.research.google.com/notebooks/data_table.ipynb>data table notebook</a>'\n",
              "            + ' to learn more about interactive tables.';\n",
              "          element.innerHTML = '';\n",
              "          dataTable['output_type'] = 'display_data';\n",
              "          await google.colab.output.renderOutput(dataTable, element);\n",
              "          const docLink = document.createElement('div');\n",
              "          docLink.innerHTML = docLinkHtml;\n",
              "          element.appendChild(docLink);\n",
              "        }\n",
              "      </script>\n",
              "    </div>\n",
              "  </div>\n",
              "  "
            ]
          },
          "metadata": {},
          "execution_count": 6
        }
      ]
    },
    {
      "cell_type": "markdown",
      "source": [
        "Uma segunda forma de selecionar as casas do bairro vila mariana seria aplicar o segundo método de filtragem, porém vale destacar que por este método, é necessário reestruturar a tabela utilizando a função DataFrame."
      ],
      "metadata": {
        "id": "4FaY2oaD96Z9"
      }
    },
    {
      "cell_type": "code",
      "source": [
        "imoveis_vila_mariana2 = df[df[\"Bairro\"] == \"Vila Mariana\"]\n",
        "imoveis_vila_mariana2 = pd.DataFrame(data=imoveis_vila_mariana2)\n",
        "imoveis_vila_mariana2"
      ],
      "metadata": {
        "colab": {
          "base_uri": "https://localhost:8080/",
          "height": 424
        },
        "id": "PFNekVH-FhdV",
        "outputId": "ebef202f-85fa-4394-c4b2-314e16f4f089"
      },
      "execution_count": 7,
      "outputs": [
        {
          "output_type": "execute_result",
          "data": {
            "text/plain": [
              "                               Rua        Bairro     Cidade  Metragem  \\\n",
              "100               Rua Pero Correia  Vila Mariana  São Paulo       250   \n",
              "120   Praça Doutor Carvalho Franco  Vila Mariana  São Paulo       250   \n",
              "155     Rua Professor João Marinho  Vila Mariana  São Paulo       170   \n",
              "160                            NaN  Vila Mariana  São Paulo       228   \n",
              "334         Rua Pero Correia, 892   Vila Mariana  São Paulo       350   \n",
              "...                            ...           ...        ...       ...   \n",
              "9645               Rua Sousa Ramos  Vila Mariana  São Paulo       285   \n",
              "9701             Rua Benito Juarez  Vila Mariana  São Paulo       171   \n",
              "9737             Rua Benito Juarez  Vila Mariana  São Paulo       171   \n",
              "9807                           NaN  Vila Mariana  São Paulo       275   \n",
              "9852              Rua França Pinto  Vila Mariana  São Paulo       280   \n",
              "\n",
              "      Quartos  Banheiros  Vagas         Valor  \n",
              "100         3          3      1  R$ 1.350.000  \n",
              "120         3          5      2  R$ 2.450.000  \n",
              "155         3          4      2  R$ 1.490.000  \n",
              "160         4          5      3  R$ 2.200.000  \n",
              "334         6          4     10  R$ 1.700.000  \n",
              "...       ...        ...    ...           ...  \n",
              "9645        3          5      5  R$ 1.650.000  \n",
              "9701        3          2      4  R$ 1.650.000  \n",
              "9737        3          2      4  R$ 1.650.000  \n",
              "9807        3          1      6  R$ 1.500.000  \n",
              "9852        3          3      4  R$ 1.600.000  \n",
              "\n",
              "[184 rows x 8 columns]"
            ],
            "text/html": [
              "\n",
              "  <div id=\"df-f36fb7ec-3d1b-4d4b-b038-348238e9c47b\">\n",
              "    <div class=\"colab-df-container\">\n",
              "      <div>\n",
              "<style scoped>\n",
              "    .dataframe tbody tr th:only-of-type {\n",
              "        vertical-align: middle;\n",
              "    }\n",
              "\n",
              "    .dataframe tbody tr th {\n",
              "        vertical-align: top;\n",
              "    }\n",
              "\n",
              "    .dataframe thead th {\n",
              "        text-align: right;\n",
              "    }\n",
              "</style>\n",
              "<table border=\"1\" class=\"dataframe\">\n",
              "  <thead>\n",
              "    <tr style=\"text-align: right;\">\n",
              "      <th></th>\n",
              "      <th>Rua</th>\n",
              "      <th>Bairro</th>\n",
              "      <th>Cidade</th>\n",
              "      <th>Metragem</th>\n",
              "      <th>Quartos</th>\n",
              "      <th>Banheiros</th>\n",
              "      <th>Vagas</th>\n",
              "      <th>Valor</th>\n",
              "    </tr>\n",
              "  </thead>\n",
              "  <tbody>\n",
              "    <tr>\n",
              "      <th>100</th>\n",
              "      <td>Rua Pero Correia</td>\n",
              "      <td>Vila Mariana</td>\n",
              "      <td>São Paulo</td>\n",
              "      <td>250</td>\n",
              "      <td>3</td>\n",
              "      <td>3</td>\n",
              "      <td>1</td>\n",
              "      <td>R$ 1.350.000</td>\n",
              "    </tr>\n",
              "    <tr>\n",
              "      <th>120</th>\n",
              "      <td>Praça Doutor Carvalho Franco</td>\n",
              "      <td>Vila Mariana</td>\n",
              "      <td>São Paulo</td>\n",
              "      <td>250</td>\n",
              "      <td>3</td>\n",
              "      <td>5</td>\n",
              "      <td>2</td>\n",
              "      <td>R$ 2.450.000</td>\n",
              "    </tr>\n",
              "    <tr>\n",
              "      <th>155</th>\n",
              "      <td>Rua Professor João Marinho</td>\n",
              "      <td>Vila Mariana</td>\n",
              "      <td>São Paulo</td>\n",
              "      <td>170</td>\n",
              "      <td>3</td>\n",
              "      <td>4</td>\n",
              "      <td>2</td>\n",
              "      <td>R$ 1.490.000</td>\n",
              "    </tr>\n",
              "    <tr>\n",
              "      <th>160</th>\n",
              "      <td>NaN</td>\n",
              "      <td>Vila Mariana</td>\n",
              "      <td>São Paulo</td>\n",
              "      <td>228</td>\n",
              "      <td>4</td>\n",
              "      <td>5</td>\n",
              "      <td>3</td>\n",
              "      <td>R$ 2.200.000</td>\n",
              "    </tr>\n",
              "    <tr>\n",
              "      <th>334</th>\n",
              "      <td>Rua Pero Correia, 892</td>\n",
              "      <td>Vila Mariana</td>\n",
              "      <td>São Paulo</td>\n",
              "      <td>350</td>\n",
              "      <td>6</td>\n",
              "      <td>4</td>\n",
              "      <td>10</td>\n",
              "      <td>R$ 1.700.000</td>\n",
              "    </tr>\n",
              "    <tr>\n",
              "      <th>...</th>\n",
              "      <td>...</td>\n",
              "      <td>...</td>\n",
              "      <td>...</td>\n",
              "      <td>...</td>\n",
              "      <td>...</td>\n",
              "      <td>...</td>\n",
              "      <td>...</td>\n",
              "      <td>...</td>\n",
              "    </tr>\n",
              "    <tr>\n",
              "      <th>9645</th>\n",
              "      <td>Rua Sousa Ramos</td>\n",
              "      <td>Vila Mariana</td>\n",
              "      <td>São Paulo</td>\n",
              "      <td>285</td>\n",
              "      <td>3</td>\n",
              "      <td>5</td>\n",
              "      <td>5</td>\n",
              "      <td>R$ 1.650.000</td>\n",
              "    </tr>\n",
              "    <tr>\n",
              "      <th>9701</th>\n",
              "      <td>Rua Benito Juarez</td>\n",
              "      <td>Vila Mariana</td>\n",
              "      <td>São Paulo</td>\n",
              "      <td>171</td>\n",
              "      <td>3</td>\n",
              "      <td>2</td>\n",
              "      <td>4</td>\n",
              "      <td>R$ 1.650.000</td>\n",
              "    </tr>\n",
              "    <tr>\n",
              "      <th>9737</th>\n",
              "      <td>Rua Benito Juarez</td>\n",
              "      <td>Vila Mariana</td>\n",
              "      <td>São Paulo</td>\n",
              "      <td>171</td>\n",
              "      <td>3</td>\n",
              "      <td>2</td>\n",
              "      <td>4</td>\n",
              "      <td>R$ 1.650.000</td>\n",
              "    </tr>\n",
              "    <tr>\n",
              "      <th>9807</th>\n",
              "      <td>NaN</td>\n",
              "      <td>Vila Mariana</td>\n",
              "      <td>São Paulo</td>\n",
              "      <td>275</td>\n",
              "      <td>3</td>\n",
              "      <td>1</td>\n",
              "      <td>6</td>\n",
              "      <td>R$ 1.500.000</td>\n",
              "    </tr>\n",
              "    <tr>\n",
              "      <th>9852</th>\n",
              "      <td>Rua França Pinto</td>\n",
              "      <td>Vila Mariana</td>\n",
              "      <td>São Paulo</td>\n",
              "      <td>280</td>\n",
              "      <td>3</td>\n",
              "      <td>3</td>\n",
              "      <td>4</td>\n",
              "      <td>R$ 1.600.000</td>\n",
              "    </tr>\n",
              "  </tbody>\n",
              "</table>\n",
              "<p>184 rows × 8 columns</p>\n",
              "</div>\n",
              "      <button class=\"colab-df-convert\" onclick=\"convertToInteractive('df-f36fb7ec-3d1b-4d4b-b038-348238e9c47b')\"\n",
              "              title=\"Convert this dataframe to an interactive table.\"\n",
              "              style=\"display:none;\">\n",
              "        \n",
              "  <svg xmlns=\"http://www.w3.org/2000/svg\" height=\"24px\"viewBox=\"0 0 24 24\"\n",
              "       width=\"24px\">\n",
              "    <path d=\"M0 0h24v24H0V0z\" fill=\"none\"/>\n",
              "    <path d=\"M18.56 5.44l.94 2.06.94-2.06 2.06-.94-2.06-.94-.94-2.06-.94 2.06-2.06.94zm-11 1L8.5 8.5l.94-2.06 2.06-.94-2.06-.94L8.5 2.5l-.94 2.06-2.06.94zm10 10l.94 2.06.94-2.06 2.06-.94-2.06-.94-.94-2.06-.94 2.06-2.06.94z\"/><path d=\"M17.41 7.96l-1.37-1.37c-.4-.4-.92-.59-1.43-.59-.52 0-1.04.2-1.43.59L10.3 9.45l-7.72 7.72c-.78.78-.78 2.05 0 2.83L4 21.41c.39.39.9.59 1.41.59.51 0 1.02-.2 1.41-.59l7.78-7.78 2.81-2.81c.8-.78.8-2.07 0-2.86zM5.41 20L4 18.59l7.72-7.72 1.47 1.35L5.41 20z\"/>\n",
              "  </svg>\n",
              "      </button>\n",
              "      \n",
              "  <style>\n",
              "    .colab-df-container {\n",
              "      display:flex;\n",
              "      flex-wrap:wrap;\n",
              "      gap: 12px;\n",
              "    }\n",
              "\n",
              "    .colab-df-convert {\n",
              "      background-color: #E8F0FE;\n",
              "      border: none;\n",
              "      border-radius: 50%;\n",
              "      cursor: pointer;\n",
              "      display: none;\n",
              "      fill: #1967D2;\n",
              "      height: 32px;\n",
              "      padding: 0 0 0 0;\n",
              "      width: 32px;\n",
              "    }\n",
              "\n",
              "    .colab-df-convert:hover {\n",
              "      background-color: #E2EBFA;\n",
              "      box-shadow: 0px 1px 2px rgba(60, 64, 67, 0.3), 0px 1px 3px 1px rgba(60, 64, 67, 0.15);\n",
              "      fill: #174EA6;\n",
              "    }\n",
              "\n",
              "    [theme=dark] .colab-df-convert {\n",
              "      background-color: #3B4455;\n",
              "      fill: #D2E3FC;\n",
              "    }\n",
              "\n",
              "    [theme=dark] .colab-df-convert:hover {\n",
              "      background-color: #434B5C;\n",
              "      box-shadow: 0px 1px 3px 1px rgba(0, 0, 0, 0.15);\n",
              "      filter: drop-shadow(0px 1px 2px rgba(0, 0, 0, 0.3));\n",
              "      fill: #FFFFFF;\n",
              "    }\n",
              "  </style>\n",
              "\n",
              "      <script>\n",
              "        const buttonEl =\n",
              "          document.querySelector('#df-f36fb7ec-3d1b-4d4b-b038-348238e9c47b button.colab-df-convert');\n",
              "        buttonEl.style.display =\n",
              "          google.colab.kernel.accessAllowed ? 'block' : 'none';\n",
              "\n",
              "        async function convertToInteractive(key) {\n",
              "          const element = document.querySelector('#df-f36fb7ec-3d1b-4d4b-b038-348238e9c47b');\n",
              "          const dataTable =\n",
              "            await google.colab.kernel.invokeFunction('convertToInteractive',\n",
              "                                                     [key], {});\n",
              "          if (!dataTable) return;\n",
              "\n",
              "          const docLinkHtml = 'Like what you see? Visit the ' +\n",
              "            '<a target=\"_blank\" href=https://colab.research.google.com/notebooks/data_table.ipynb>data table notebook</a>'\n",
              "            + ' to learn more about interactive tables.';\n",
              "          element.innerHTML = '';\n",
              "          dataTable['output_type'] = 'display_data';\n",
              "          await google.colab.output.renderOutput(dataTable, element);\n",
              "          const docLink = document.createElement('div');\n",
              "          docLink.innerHTML = docLinkHtml;\n",
              "          element.appendChild(docLink);\n",
              "        }\n",
              "      </script>\n",
              "    </div>\n",
              "  </div>\n",
              "  "
            ]
          },
          "metadata": {},
          "execution_count": 7
        }
      ]
    },
    {
      "cell_type": "markdown",
      "source": [
        "Aplicando a função describe(), podemos estimar alguns valores, por estatística descritiva, das casas de Vila Mariana"
      ],
      "metadata": {
        "id": "KWT8TnM--ouF"
      }
    },
    {
      "cell_type": "code",
      "source": [
        "imoveis_vila_mariana.describe()"
      ],
      "metadata": {
        "colab": {
          "base_uri": "https://localhost:8080/",
          "height": 300
        },
        "id": "oZJQ74UgFhla",
        "outputId": "14b730db-8183-4982-d5ea-6fb7bbcc4fb8"
      },
      "execution_count": 8,
      "outputs": [
        {
          "output_type": "execute_result",
          "data": {
            "text/plain": [
              "         Metragem     Quartos   Banheiros       Vagas\n",
              "count  184.000000  184.000000  184.000000  184.000000\n",
              "mean   233.619565    3.375000    3.228261    2.929348\n",
              "std     91.467315    0.983817    1.310765    1.801762\n",
              "min     60.000000    1.000000    1.000000    1.000000\n",
              "25%    166.000000    3.000000    2.000000    2.000000\n",
              "50%    235.500000    3.000000    3.000000    2.000000\n",
              "75%    285.000000    4.000000    4.000000    4.000000\n",
              "max    650.000000   11.000000    8.000000   10.000000"
            ],
            "text/html": [
              "\n",
              "  <div id=\"df-70f78ea6-699c-4a89-9fdf-3118e7e2bfb0\">\n",
              "    <div class=\"colab-df-container\">\n",
              "      <div>\n",
              "<style scoped>\n",
              "    .dataframe tbody tr th:only-of-type {\n",
              "        vertical-align: middle;\n",
              "    }\n",
              "\n",
              "    .dataframe tbody tr th {\n",
              "        vertical-align: top;\n",
              "    }\n",
              "\n",
              "    .dataframe thead th {\n",
              "        text-align: right;\n",
              "    }\n",
              "</style>\n",
              "<table border=\"1\" class=\"dataframe\">\n",
              "  <thead>\n",
              "    <tr style=\"text-align: right;\">\n",
              "      <th></th>\n",
              "      <th>Metragem</th>\n",
              "      <th>Quartos</th>\n",
              "      <th>Banheiros</th>\n",
              "      <th>Vagas</th>\n",
              "    </tr>\n",
              "  </thead>\n",
              "  <tbody>\n",
              "    <tr>\n",
              "      <th>count</th>\n",
              "      <td>184.000000</td>\n",
              "      <td>184.000000</td>\n",
              "      <td>184.000000</td>\n",
              "      <td>184.000000</td>\n",
              "    </tr>\n",
              "    <tr>\n",
              "      <th>mean</th>\n",
              "      <td>233.619565</td>\n",
              "      <td>3.375000</td>\n",
              "      <td>3.228261</td>\n",
              "      <td>2.929348</td>\n",
              "    </tr>\n",
              "    <tr>\n",
              "      <th>std</th>\n",
              "      <td>91.467315</td>\n",
              "      <td>0.983817</td>\n",
              "      <td>1.310765</td>\n",
              "      <td>1.801762</td>\n",
              "    </tr>\n",
              "    <tr>\n",
              "      <th>min</th>\n",
              "      <td>60.000000</td>\n",
              "      <td>1.000000</td>\n",
              "      <td>1.000000</td>\n",
              "      <td>1.000000</td>\n",
              "    </tr>\n",
              "    <tr>\n",
              "      <th>25%</th>\n",
              "      <td>166.000000</td>\n",
              "      <td>3.000000</td>\n",
              "      <td>2.000000</td>\n",
              "      <td>2.000000</td>\n",
              "    </tr>\n",
              "    <tr>\n",
              "      <th>50%</th>\n",
              "      <td>235.500000</td>\n",
              "      <td>3.000000</td>\n",
              "      <td>3.000000</td>\n",
              "      <td>2.000000</td>\n",
              "    </tr>\n",
              "    <tr>\n",
              "      <th>75%</th>\n",
              "      <td>285.000000</td>\n",
              "      <td>4.000000</td>\n",
              "      <td>4.000000</td>\n",
              "      <td>4.000000</td>\n",
              "    </tr>\n",
              "    <tr>\n",
              "      <th>max</th>\n",
              "      <td>650.000000</td>\n",
              "      <td>11.000000</td>\n",
              "      <td>8.000000</td>\n",
              "      <td>10.000000</td>\n",
              "    </tr>\n",
              "  </tbody>\n",
              "</table>\n",
              "</div>\n",
              "      <button class=\"colab-df-convert\" onclick=\"convertToInteractive('df-70f78ea6-699c-4a89-9fdf-3118e7e2bfb0')\"\n",
              "              title=\"Convert this dataframe to an interactive table.\"\n",
              "              style=\"display:none;\">\n",
              "        \n",
              "  <svg xmlns=\"http://www.w3.org/2000/svg\" height=\"24px\"viewBox=\"0 0 24 24\"\n",
              "       width=\"24px\">\n",
              "    <path d=\"M0 0h24v24H0V0z\" fill=\"none\"/>\n",
              "    <path d=\"M18.56 5.44l.94 2.06.94-2.06 2.06-.94-2.06-.94-.94-2.06-.94 2.06-2.06.94zm-11 1L8.5 8.5l.94-2.06 2.06-.94-2.06-.94L8.5 2.5l-.94 2.06-2.06.94zm10 10l.94 2.06.94-2.06 2.06-.94-2.06-.94-.94-2.06-.94 2.06-2.06.94z\"/><path d=\"M17.41 7.96l-1.37-1.37c-.4-.4-.92-.59-1.43-.59-.52 0-1.04.2-1.43.59L10.3 9.45l-7.72 7.72c-.78.78-.78 2.05 0 2.83L4 21.41c.39.39.9.59 1.41.59.51 0 1.02-.2 1.41-.59l7.78-7.78 2.81-2.81c.8-.78.8-2.07 0-2.86zM5.41 20L4 18.59l7.72-7.72 1.47 1.35L5.41 20z\"/>\n",
              "  </svg>\n",
              "      </button>\n",
              "      \n",
              "  <style>\n",
              "    .colab-df-container {\n",
              "      display:flex;\n",
              "      flex-wrap:wrap;\n",
              "      gap: 12px;\n",
              "    }\n",
              "\n",
              "    .colab-df-convert {\n",
              "      background-color: #E8F0FE;\n",
              "      border: none;\n",
              "      border-radius: 50%;\n",
              "      cursor: pointer;\n",
              "      display: none;\n",
              "      fill: #1967D2;\n",
              "      height: 32px;\n",
              "      padding: 0 0 0 0;\n",
              "      width: 32px;\n",
              "    }\n",
              "\n",
              "    .colab-df-convert:hover {\n",
              "      background-color: #E2EBFA;\n",
              "      box-shadow: 0px 1px 2px rgba(60, 64, 67, 0.3), 0px 1px 3px 1px rgba(60, 64, 67, 0.15);\n",
              "      fill: #174EA6;\n",
              "    }\n",
              "\n",
              "    [theme=dark] .colab-df-convert {\n",
              "      background-color: #3B4455;\n",
              "      fill: #D2E3FC;\n",
              "    }\n",
              "\n",
              "    [theme=dark] .colab-df-convert:hover {\n",
              "      background-color: #434B5C;\n",
              "      box-shadow: 0px 1px 3px 1px rgba(0, 0, 0, 0.15);\n",
              "      filter: drop-shadow(0px 1px 2px rgba(0, 0, 0, 0.3));\n",
              "      fill: #FFFFFF;\n",
              "    }\n",
              "  </style>\n",
              "\n",
              "      <script>\n",
              "        const buttonEl =\n",
              "          document.querySelector('#df-70f78ea6-699c-4a89-9fdf-3118e7e2bfb0 button.colab-df-convert');\n",
              "        buttonEl.style.display =\n",
              "          google.colab.kernel.accessAllowed ? 'block' : 'none';\n",
              "\n",
              "        async function convertToInteractive(key) {\n",
              "          const element = document.querySelector('#df-70f78ea6-699c-4a89-9fdf-3118e7e2bfb0');\n",
              "          const dataTable =\n",
              "            await google.colab.kernel.invokeFunction('convertToInteractive',\n",
              "                                                     [key], {});\n",
              "          if (!dataTable) return;\n",
              "\n",
              "          const docLinkHtml = 'Like what you see? Visit the ' +\n",
              "            '<a target=\"_blank\" href=https://colab.research.google.com/notebooks/data_table.ipynb>data table notebook</a>'\n",
              "            + ' to learn more about interactive tables.';\n",
              "          element.innerHTML = '';\n",
              "          dataTable['output_type'] = 'display_data';\n",
              "          await google.colab.output.renderOutput(dataTable, element);\n",
              "          const docLink = document.createElement('div');\n",
              "          docLink.innerHTML = docLinkHtml;\n",
              "          element.appendChild(docLink);\n",
              "        }\n",
              "      </script>\n",
              "    </div>\n",
              "  </div>\n",
              "  "
            ]
          },
          "metadata": {},
          "execution_count": 8
        }
      ]
    },
    {
      "cell_type": "code",
      "source": [
        "n_imoveis_bairro = df.groupby(df['Bairro']).describe()\n",
        "n_imoveis_bairro = pd.DataFrame(n_imoveis_bairro)\n",
        "n_imoveis_bairro.head(20)"
      ],
      "metadata": {
        "colab": {
          "base_uri": "https://localhost:8080/",
          "height": 769
        },
        "id": "ldP8X41af2W8",
        "outputId": "e151b883-791a-4ac2-bbc9-ea2458b9f65b"
      },
      "execution_count": 9,
      "outputs": [
        {
          "output_type": "execute_result",
          "data": {
            "text/plain": [
              "                          Metragem                                         \\\n",
              "                             count        mean         std    min     25%   \n",
              "Bairro                                                                      \n",
              "Aclimação                     88.0  253.056818  159.140245  104.0  165.00   \n",
              "Alto da Boa Vista              8.0  418.875000  111.880596  315.0  347.50   \n",
              "Alto da Lapa                  86.0  294.337209  187.674036   46.0  151.25   \n",
              "Alto da Mooca                 20.0  270.050000  237.306924   84.0  133.75   \n",
              "Alto de Pinheiros            409.0  433.444988  145.676574  100.0  344.00   \n",
              "Aricanduva                     1.0  278.000000         NaN  278.0  278.00   \n",
              "Balneário Mar Paulista         1.0  250.000000         NaN  250.0  250.00   \n",
              "Barra Funda                   18.0  135.444444   73.375923   44.0   88.25   \n",
              "Barro Branco (Zona Norte)     10.0  489.000000  151.891774  215.0  355.00   \n",
              "Bela Aliança                  21.0  345.476190  157.375862  144.0  235.00   \n",
              "Bela Vista                     1.0  190.000000         NaN  190.0  190.00   \n",
              "Belenzinho                    13.0  215.692308   73.413651  124.0  140.00   \n",
              "Boaçava                      115.0  512.026087  189.136053  200.0  410.00   \n",
              "Bom Retiro                     2.0  336.500000    3.535534  334.0  335.25   \n",
              "Bortolândia                    3.0  151.666667   44.814432  100.0  137.50   \n",
              "Bosque da Saúde              135.0  247.592593  130.177106   70.0  152.50   \n",
              "Brasilândia                    4.0   83.750000    2.500000   80.0   83.75   \n",
              "Brooklin                      36.0  339.416667  204.500559   80.0  182.50   \n",
              "Brooklin Novo                 10.0  290.300000   62.173681  175.0  245.00   \n",
              "Brooklin Paulista            247.0  323.676113  158.535909   70.0  205.00   \n",
              "\n",
              "                                                 Quartos            ...  \\\n",
              "                             50%     75%     max   count      mean  ...   \n",
              "Bairro                                                              ...   \n",
              "Aclimação                  227.5  300.00  1500.0    88.0  3.318182  ...   \n",
              "Alto da Boa Vista          378.0  448.75   595.0     8.0  4.125000  ...   \n",
              "Alto da Lapa               255.0  363.75  1133.0    86.0  3.151163  ...   \n",
              "Alto da Mooca              182.5  221.25   805.0    20.0  3.300000  ...   \n",
              "Alto de Pinheiros          412.0  505.00  1530.0   409.0  3.938875  ...   \n",
              "Aricanduva                 278.0  278.00   278.0     1.0  3.000000  ...   \n",
              "Balneário Mar Paulista     250.0  250.00   250.0     1.0  4.000000  ...   \n",
              "Barra Funda                122.5  168.75   305.0    18.0  2.500000  ...   \n",
              "Barro Branco (Zona Norte)  600.0  603.75   605.0    10.0  3.500000  ...   \n",
              "Bela Aliança               300.0  400.00   655.0    21.0  3.333333  ...   \n",
              "Bela Vista                 190.0  190.00   190.0     1.0  3.000000  ...   \n",
              "Belenzinho                 230.0  255.00   335.0    13.0  3.000000  ...   \n",
              "Boaçava                    440.0  600.00  1192.0   115.0  3.939130  ...   \n",
              "Bom Retiro                 336.5  337.75   339.0     2.0  3.000000  ...   \n",
              "Bortolândia                175.0  177.50   180.0     3.0  3.000000  ...   \n",
              "Bosque da Saúde            205.0  290.50   650.0   135.0  3.407407  ...   \n",
              "Brasilândia                 85.0   85.00    85.0     4.0  2.000000  ...   \n",
              "Brooklin                   268.0  455.75   705.0    36.0  3.444444  ...   \n",
              "Brooklin Novo              302.5  337.00   377.0    10.0  3.400000  ...   \n",
              "Brooklin Paulista          286.0  406.00   874.0   247.0  3.534413  ...   \n",
              "\n",
              "                          Banheiros        Vagas                             \\\n",
              "                                75%   max  count       mean       std   min   \n",
              "Bairro                                                                        \n",
              "Aclimação                       4.0   7.0   88.0   2.909091  1.672196   1.0   \n",
              "Alto da Boa Vista               6.0   7.0    8.0   4.625000  1.302470   3.0   \n",
              "Alto da Lapa                    5.0   8.0   86.0   3.906977  2.150939   1.0   \n",
              "Alto da Mooca                   3.0   7.0   20.0   3.650000  1.725200   1.0   \n",
              "Alto de Pinheiros               6.0  11.0  409.0   5.004890  2.091058   1.0   \n",
              "Aricanduva                      3.0   3.0    1.0   2.000000       NaN   2.0   \n",
              "Balneário Mar Paulista          4.0   4.0    1.0  10.000000       NaN  10.0   \n",
              "Barra Funda                     3.0   4.0   18.0   1.388889  0.501631   1.0   \n",
              "Barro Branco (Zona Norte)       5.5   7.0   10.0   5.000000  1.699673   4.0   \n",
              "Bela Aliança                    5.0   6.0   21.0   4.285714  1.764734   2.0   \n",
              "Bela Vista                      2.0   2.0    1.0   1.000000       NaN   1.0   \n",
              "Belenzinho                      3.0   5.0   13.0   3.538462  2.221688   1.0   \n",
              "Boaçava                         6.0   8.0  115.0   5.408696  1.632433   2.0   \n",
              "Bom Retiro                      2.0   2.0    2.0   2.000000  0.000000   2.0   \n",
              "Bortolândia                     4.0   4.0    3.0   3.000000  0.000000   3.0   \n",
              "Bosque da Saúde                 4.0   8.0  135.0   3.970370  2.521374   1.0   \n",
              "Brasilândia                     1.0   1.0    4.0   5.000000  0.000000   5.0   \n",
              "Brooklin                        5.0   6.0   36.0   3.861111  2.282264   2.0   \n",
              "Brooklin Novo                   4.0   5.0   10.0   4.300000  1.251666   3.0   \n",
              "Brooklin Paulista               5.0   8.0  247.0   3.785425  1.639983   1.0   \n",
              "\n",
              "                                                     \n",
              "                             25%   50%    75%   max  \n",
              "Bairro                                               \n",
              "Aclimação                   2.00   3.0   4.00   8.0  \n",
              "Alto da Boa Vista           4.00   4.0   5.25   7.0  \n",
              "Alto da Lapa                2.00   4.0   5.75  12.0  \n",
              "Alto da Mooca               2.00   4.0   5.25   6.0  \n",
              "Alto de Pinheiros           4.00   4.0   6.00  15.0  \n",
              "Aricanduva                  2.00   2.0   2.00   2.0  \n",
              "Balneário Mar Paulista     10.00  10.0  10.00  10.0  \n",
              "Barra Funda                 1.00   1.0   2.00   2.0  \n",
              "Barro Branco (Zona Norte)   4.00   4.0   5.50   8.0  \n",
              "Bela Aliança                3.00   4.0   6.00   8.0  \n",
              "Bela Vista                  1.00   1.0   1.00   1.0  \n",
              "Belenzinho                  2.00   3.0   4.00   7.0  \n",
              "Boaçava                     4.00   6.0   6.00  10.0  \n",
              "Bom Retiro                  2.00   2.0   2.00   2.0  \n",
              "Bortolândia                 3.00   3.0   3.00   3.0  \n",
              "Bosque da Saúde             2.00   3.0   5.00  12.0  \n",
              "Brasilândia                 5.00   5.0   5.00   5.0  \n",
              "Brooklin                    2.75   3.5   4.00  12.0  \n",
              "Brooklin Novo               3.25   4.0   5.50   6.0  \n",
              "Brooklin Paulista           3.00   4.0   5.00  10.0  \n",
              "\n",
              "[20 rows x 32 columns]"
            ],
            "text/html": [
              "\n",
              "  <div id=\"df-e77f0921-dfeb-473c-8f44-3dd3f0673142\">\n",
              "    <div class=\"colab-df-container\">\n",
              "      <div>\n",
              "<style scoped>\n",
              "    .dataframe tbody tr th:only-of-type {\n",
              "        vertical-align: middle;\n",
              "    }\n",
              "\n",
              "    .dataframe tbody tr th {\n",
              "        vertical-align: top;\n",
              "    }\n",
              "\n",
              "    .dataframe thead tr th {\n",
              "        text-align: left;\n",
              "    }\n",
              "\n",
              "    .dataframe thead tr:last-of-type th {\n",
              "        text-align: right;\n",
              "    }\n",
              "</style>\n",
              "<table border=\"1\" class=\"dataframe\">\n",
              "  <thead>\n",
              "    <tr>\n",
              "      <th></th>\n",
              "      <th colspan=\"8\" halign=\"left\">Metragem</th>\n",
              "      <th colspan=\"2\" halign=\"left\">Quartos</th>\n",
              "      <th>...</th>\n",
              "      <th colspan=\"2\" halign=\"left\">Banheiros</th>\n",
              "      <th colspan=\"8\" halign=\"left\">Vagas</th>\n",
              "    </tr>\n",
              "    <tr>\n",
              "      <th></th>\n",
              "      <th>count</th>\n",
              "      <th>mean</th>\n",
              "      <th>std</th>\n",
              "      <th>min</th>\n",
              "      <th>25%</th>\n",
              "      <th>50%</th>\n",
              "      <th>75%</th>\n",
              "      <th>max</th>\n",
              "      <th>count</th>\n",
              "      <th>mean</th>\n",
              "      <th>...</th>\n",
              "      <th>75%</th>\n",
              "      <th>max</th>\n",
              "      <th>count</th>\n",
              "      <th>mean</th>\n",
              "      <th>std</th>\n",
              "      <th>min</th>\n",
              "      <th>25%</th>\n",
              "      <th>50%</th>\n",
              "      <th>75%</th>\n",
              "      <th>max</th>\n",
              "    </tr>\n",
              "    <tr>\n",
              "      <th>Bairro</th>\n",
              "      <th></th>\n",
              "      <th></th>\n",
              "      <th></th>\n",
              "      <th></th>\n",
              "      <th></th>\n",
              "      <th></th>\n",
              "      <th></th>\n",
              "      <th></th>\n",
              "      <th></th>\n",
              "      <th></th>\n",
              "      <th></th>\n",
              "      <th></th>\n",
              "      <th></th>\n",
              "      <th></th>\n",
              "      <th></th>\n",
              "      <th></th>\n",
              "      <th></th>\n",
              "      <th></th>\n",
              "      <th></th>\n",
              "      <th></th>\n",
              "      <th></th>\n",
              "    </tr>\n",
              "  </thead>\n",
              "  <tbody>\n",
              "    <tr>\n",
              "      <th>Aclimação</th>\n",
              "      <td>88.0</td>\n",
              "      <td>253.056818</td>\n",
              "      <td>159.140245</td>\n",
              "      <td>104.0</td>\n",
              "      <td>165.00</td>\n",
              "      <td>227.5</td>\n",
              "      <td>300.00</td>\n",
              "      <td>1500.0</td>\n",
              "      <td>88.0</td>\n",
              "      <td>3.318182</td>\n",
              "      <td>...</td>\n",
              "      <td>4.0</td>\n",
              "      <td>7.0</td>\n",
              "      <td>88.0</td>\n",
              "      <td>2.909091</td>\n",
              "      <td>1.672196</td>\n",
              "      <td>1.0</td>\n",
              "      <td>2.00</td>\n",
              "      <td>3.0</td>\n",
              "      <td>4.00</td>\n",
              "      <td>8.0</td>\n",
              "    </tr>\n",
              "    <tr>\n",
              "      <th>Alto da Boa Vista</th>\n",
              "      <td>8.0</td>\n",
              "      <td>418.875000</td>\n",
              "      <td>111.880596</td>\n",
              "      <td>315.0</td>\n",
              "      <td>347.50</td>\n",
              "      <td>378.0</td>\n",
              "      <td>448.75</td>\n",
              "      <td>595.0</td>\n",
              "      <td>8.0</td>\n",
              "      <td>4.125000</td>\n",
              "      <td>...</td>\n",
              "      <td>6.0</td>\n",
              "      <td>7.0</td>\n",
              "      <td>8.0</td>\n",
              "      <td>4.625000</td>\n",
              "      <td>1.302470</td>\n",
              "      <td>3.0</td>\n",
              "      <td>4.00</td>\n",
              "      <td>4.0</td>\n",
              "      <td>5.25</td>\n",
              "      <td>7.0</td>\n",
              "    </tr>\n",
              "    <tr>\n",
              "      <th>Alto da Lapa</th>\n",
              "      <td>86.0</td>\n",
              "      <td>294.337209</td>\n",
              "      <td>187.674036</td>\n",
              "      <td>46.0</td>\n",
              "      <td>151.25</td>\n",
              "      <td>255.0</td>\n",
              "      <td>363.75</td>\n",
              "      <td>1133.0</td>\n",
              "      <td>86.0</td>\n",
              "      <td>3.151163</td>\n",
              "      <td>...</td>\n",
              "      <td>5.0</td>\n",
              "      <td>8.0</td>\n",
              "      <td>86.0</td>\n",
              "      <td>3.906977</td>\n",
              "      <td>2.150939</td>\n",
              "      <td>1.0</td>\n",
              "      <td>2.00</td>\n",
              "      <td>4.0</td>\n",
              "      <td>5.75</td>\n",
              "      <td>12.0</td>\n",
              "    </tr>\n",
              "    <tr>\n",
              "      <th>Alto da Mooca</th>\n",
              "      <td>20.0</td>\n",
              "      <td>270.050000</td>\n",
              "      <td>237.306924</td>\n",
              "      <td>84.0</td>\n",
              "      <td>133.75</td>\n",
              "      <td>182.5</td>\n",
              "      <td>221.25</td>\n",
              "      <td>805.0</td>\n",
              "      <td>20.0</td>\n",
              "      <td>3.300000</td>\n",
              "      <td>...</td>\n",
              "      <td>3.0</td>\n",
              "      <td>7.0</td>\n",
              "      <td>20.0</td>\n",
              "      <td>3.650000</td>\n",
              "      <td>1.725200</td>\n",
              "      <td>1.0</td>\n",
              "      <td>2.00</td>\n",
              "      <td>4.0</td>\n",
              "      <td>5.25</td>\n",
              "      <td>6.0</td>\n",
              "    </tr>\n",
              "    <tr>\n",
              "      <th>Alto de Pinheiros</th>\n",
              "      <td>409.0</td>\n",
              "      <td>433.444988</td>\n",
              "      <td>145.676574</td>\n",
              "      <td>100.0</td>\n",
              "      <td>344.00</td>\n",
              "      <td>412.0</td>\n",
              "      <td>505.00</td>\n",
              "      <td>1530.0</td>\n",
              "      <td>409.0</td>\n",
              "      <td>3.938875</td>\n",
              "      <td>...</td>\n",
              "      <td>6.0</td>\n",
              "      <td>11.0</td>\n",
              "      <td>409.0</td>\n",
              "      <td>5.004890</td>\n",
              "      <td>2.091058</td>\n",
              "      <td>1.0</td>\n",
              "      <td>4.00</td>\n",
              "      <td>4.0</td>\n",
              "      <td>6.00</td>\n",
              "      <td>15.0</td>\n",
              "    </tr>\n",
              "    <tr>\n",
              "      <th>Aricanduva</th>\n",
              "      <td>1.0</td>\n",
              "      <td>278.000000</td>\n",
              "      <td>NaN</td>\n",
              "      <td>278.0</td>\n",
              "      <td>278.00</td>\n",
              "      <td>278.0</td>\n",
              "      <td>278.00</td>\n",
              "      <td>278.0</td>\n",
              "      <td>1.0</td>\n",
              "      <td>3.000000</td>\n",
              "      <td>...</td>\n",
              "      <td>3.0</td>\n",
              "      <td>3.0</td>\n",
              "      <td>1.0</td>\n",
              "      <td>2.000000</td>\n",
              "      <td>NaN</td>\n",
              "      <td>2.0</td>\n",
              "      <td>2.00</td>\n",
              "      <td>2.0</td>\n",
              "      <td>2.00</td>\n",
              "      <td>2.0</td>\n",
              "    </tr>\n",
              "    <tr>\n",
              "      <th>Balneário Mar Paulista</th>\n",
              "      <td>1.0</td>\n",
              "      <td>250.000000</td>\n",
              "      <td>NaN</td>\n",
              "      <td>250.0</td>\n",
              "      <td>250.00</td>\n",
              "      <td>250.0</td>\n",
              "      <td>250.00</td>\n",
              "      <td>250.0</td>\n",
              "      <td>1.0</td>\n",
              "      <td>4.000000</td>\n",
              "      <td>...</td>\n",
              "      <td>4.0</td>\n",
              "      <td>4.0</td>\n",
              "      <td>1.0</td>\n",
              "      <td>10.000000</td>\n",
              "      <td>NaN</td>\n",
              "      <td>10.0</td>\n",
              "      <td>10.00</td>\n",
              "      <td>10.0</td>\n",
              "      <td>10.00</td>\n",
              "      <td>10.0</td>\n",
              "    </tr>\n",
              "    <tr>\n",
              "      <th>Barra Funda</th>\n",
              "      <td>18.0</td>\n",
              "      <td>135.444444</td>\n",
              "      <td>73.375923</td>\n",
              "      <td>44.0</td>\n",
              "      <td>88.25</td>\n",
              "      <td>122.5</td>\n",
              "      <td>168.75</td>\n",
              "      <td>305.0</td>\n",
              "      <td>18.0</td>\n",
              "      <td>2.500000</td>\n",
              "      <td>...</td>\n",
              "      <td>3.0</td>\n",
              "      <td>4.0</td>\n",
              "      <td>18.0</td>\n",
              "      <td>1.388889</td>\n",
              "      <td>0.501631</td>\n",
              "      <td>1.0</td>\n",
              "      <td>1.00</td>\n",
              "      <td>1.0</td>\n",
              "      <td>2.00</td>\n",
              "      <td>2.0</td>\n",
              "    </tr>\n",
              "    <tr>\n",
              "      <th>Barro Branco (Zona Norte)</th>\n",
              "      <td>10.0</td>\n",
              "      <td>489.000000</td>\n",
              "      <td>151.891774</td>\n",
              "      <td>215.0</td>\n",
              "      <td>355.00</td>\n",
              "      <td>600.0</td>\n",
              "      <td>603.75</td>\n",
              "      <td>605.0</td>\n",
              "      <td>10.0</td>\n",
              "      <td>3.500000</td>\n",
              "      <td>...</td>\n",
              "      <td>5.5</td>\n",
              "      <td>7.0</td>\n",
              "      <td>10.0</td>\n",
              "      <td>5.000000</td>\n",
              "      <td>1.699673</td>\n",
              "      <td>4.0</td>\n",
              "      <td>4.00</td>\n",
              "      <td>4.0</td>\n",
              "      <td>5.50</td>\n",
              "      <td>8.0</td>\n",
              "    </tr>\n",
              "    <tr>\n",
              "      <th>Bela Aliança</th>\n",
              "      <td>21.0</td>\n",
              "      <td>345.476190</td>\n",
              "      <td>157.375862</td>\n",
              "      <td>144.0</td>\n",
              "      <td>235.00</td>\n",
              "      <td>300.0</td>\n",
              "      <td>400.00</td>\n",
              "      <td>655.0</td>\n",
              "      <td>21.0</td>\n",
              "      <td>3.333333</td>\n",
              "      <td>...</td>\n",
              "      <td>5.0</td>\n",
              "      <td>6.0</td>\n",
              "      <td>21.0</td>\n",
              "      <td>4.285714</td>\n",
              "      <td>1.764734</td>\n",
              "      <td>2.0</td>\n",
              "      <td>3.00</td>\n",
              "      <td>4.0</td>\n",
              "      <td>6.00</td>\n",
              "      <td>8.0</td>\n",
              "    </tr>\n",
              "    <tr>\n",
              "      <th>Bela Vista</th>\n",
              "      <td>1.0</td>\n",
              "      <td>190.000000</td>\n",
              "      <td>NaN</td>\n",
              "      <td>190.0</td>\n",
              "      <td>190.00</td>\n",
              "      <td>190.0</td>\n",
              "      <td>190.00</td>\n",
              "      <td>190.0</td>\n",
              "      <td>1.0</td>\n",
              "      <td>3.000000</td>\n",
              "      <td>...</td>\n",
              "      <td>2.0</td>\n",
              "      <td>2.0</td>\n",
              "      <td>1.0</td>\n",
              "      <td>1.000000</td>\n",
              "      <td>NaN</td>\n",
              "      <td>1.0</td>\n",
              "      <td>1.00</td>\n",
              "      <td>1.0</td>\n",
              "      <td>1.00</td>\n",
              "      <td>1.0</td>\n",
              "    </tr>\n",
              "    <tr>\n",
              "      <th>Belenzinho</th>\n",
              "      <td>13.0</td>\n",
              "      <td>215.692308</td>\n",
              "      <td>73.413651</td>\n",
              "      <td>124.0</td>\n",
              "      <td>140.00</td>\n",
              "      <td>230.0</td>\n",
              "      <td>255.00</td>\n",
              "      <td>335.0</td>\n",
              "      <td>13.0</td>\n",
              "      <td>3.000000</td>\n",
              "      <td>...</td>\n",
              "      <td>3.0</td>\n",
              "      <td>5.0</td>\n",
              "      <td>13.0</td>\n",
              "      <td>3.538462</td>\n",
              "      <td>2.221688</td>\n",
              "      <td>1.0</td>\n",
              "      <td>2.00</td>\n",
              "      <td>3.0</td>\n",
              "      <td>4.00</td>\n",
              "      <td>7.0</td>\n",
              "    </tr>\n",
              "    <tr>\n",
              "      <th>Boaçava</th>\n",
              "      <td>115.0</td>\n",
              "      <td>512.026087</td>\n",
              "      <td>189.136053</td>\n",
              "      <td>200.0</td>\n",
              "      <td>410.00</td>\n",
              "      <td>440.0</td>\n",
              "      <td>600.00</td>\n",
              "      <td>1192.0</td>\n",
              "      <td>115.0</td>\n",
              "      <td>3.939130</td>\n",
              "      <td>...</td>\n",
              "      <td>6.0</td>\n",
              "      <td>8.0</td>\n",
              "      <td>115.0</td>\n",
              "      <td>5.408696</td>\n",
              "      <td>1.632433</td>\n",
              "      <td>2.0</td>\n",
              "      <td>4.00</td>\n",
              "      <td>6.0</td>\n",
              "      <td>6.00</td>\n",
              "      <td>10.0</td>\n",
              "    </tr>\n",
              "    <tr>\n",
              "      <th>Bom Retiro</th>\n",
              "      <td>2.0</td>\n",
              "      <td>336.500000</td>\n",
              "      <td>3.535534</td>\n",
              "      <td>334.0</td>\n",
              "      <td>335.25</td>\n",
              "      <td>336.5</td>\n",
              "      <td>337.75</td>\n",
              "      <td>339.0</td>\n",
              "      <td>2.0</td>\n",
              "      <td>3.000000</td>\n",
              "      <td>...</td>\n",
              "      <td>2.0</td>\n",
              "      <td>2.0</td>\n",
              "      <td>2.0</td>\n",
              "      <td>2.000000</td>\n",
              "      <td>0.000000</td>\n",
              "      <td>2.0</td>\n",
              "      <td>2.00</td>\n",
              "      <td>2.0</td>\n",
              "      <td>2.00</td>\n",
              "      <td>2.0</td>\n",
              "    </tr>\n",
              "    <tr>\n",
              "      <th>Bortolândia</th>\n",
              "      <td>3.0</td>\n",
              "      <td>151.666667</td>\n",
              "      <td>44.814432</td>\n",
              "      <td>100.0</td>\n",
              "      <td>137.50</td>\n",
              "      <td>175.0</td>\n",
              "      <td>177.50</td>\n",
              "      <td>180.0</td>\n",
              "      <td>3.0</td>\n",
              "      <td>3.000000</td>\n",
              "      <td>...</td>\n",
              "      <td>4.0</td>\n",
              "      <td>4.0</td>\n",
              "      <td>3.0</td>\n",
              "      <td>3.000000</td>\n",
              "      <td>0.000000</td>\n",
              "      <td>3.0</td>\n",
              "      <td>3.00</td>\n",
              "      <td>3.0</td>\n",
              "      <td>3.00</td>\n",
              "      <td>3.0</td>\n",
              "    </tr>\n",
              "    <tr>\n",
              "      <th>Bosque da Saúde</th>\n",
              "      <td>135.0</td>\n",
              "      <td>247.592593</td>\n",
              "      <td>130.177106</td>\n",
              "      <td>70.0</td>\n",
              "      <td>152.50</td>\n",
              "      <td>205.0</td>\n",
              "      <td>290.50</td>\n",
              "      <td>650.0</td>\n",
              "      <td>135.0</td>\n",
              "      <td>3.407407</td>\n",
              "      <td>...</td>\n",
              "      <td>4.0</td>\n",
              "      <td>8.0</td>\n",
              "      <td>135.0</td>\n",
              "      <td>3.970370</td>\n",
              "      <td>2.521374</td>\n",
              "      <td>1.0</td>\n",
              "      <td>2.00</td>\n",
              "      <td>3.0</td>\n",
              "      <td>5.00</td>\n",
              "      <td>12.0</td>\n",
              "    </tr>\n",
              "    <tr>\n",
              "      <th>Brasilândia</th>\n",
              "      <td>4.0</td>\n",
              "      <td>83.750000</td>\n",
              "      <td>2.500000</td>\n",
              "      <td>80.0</td>\n",
              "      <td>83.75</td>\n",
              "      <td>85.0</td>\n",
              "      <td>85.00</td>\n",
              "      <td>85.0</td>\n",
              "      <td>4.0</td>\n",
              "      <td>2.000000</td>\n",
              "      <td>...</td>\n",
              "      <td>1.0</td>\n",
              "      <td>1.0</td>\n",
              "      <td>4.0</td>\n",
              "      <td>5.000000</td>\n",
              "      <td>0.000000</td>\n",
              "      <td>5.0</td>\n",
              "      <td>5.00</td>\n",
              "      <td>5.0</td>\n",
              "      <td>5.00</td>\n",
              "      <td>5.0</td>\n",
              "    </tr>\n",
              "    <tr>\n",
              "      <th>Brooklin</th>\n",
              "      <td>36.0</td>\n",
              "      <td>339.416667</td>\n",
              "      <td>204.500559</td>\n",
              "      <td>80.0</td>\n",
              "      <td>182.50</td>\n",
              "      <td>268.0</td>\n",
              "      <td>455.75</td>\n",
              "      <td>705.0</td>\n",
              "      <td>36.0</td>\n",
              "      <td>3.444444</td>\n",
              "      <td>...</td>\n",
              "      <td>5.0</td>\n",
              "      <td>6.0</td>\n",
              "      <td>36.0</td>\n",
              "      <td>3.861111</td>\n",
              "      <td>2.282264</td>\n",
              "      <td>2.0</td>\n",
              "      <td>2.75</td>\n",
              "      <td>3.5</td>\n",
              "      <td>4.00</td>\n",
              "      <td>12.0</td>\n",
              "    </tr>\n",
              "    <tr>\n",
              "      <th>Brooklin Novo</th>\n",
              "      <td>10.0</td>\n",
              "      <td>290.300000</td>\n",
              "      <td>62.173681</td>\n",
              "      <td>175.0</td>\n",
              "      <td>245.00</td>\n",
              "      <td>302.5</td>\n",
              "      <td>337.00</td>\n",
              "      <td>377.0</td>\n",
              "      <td>10.0</td>\n",
              "      <td>3.400000</td>\n",
              "      <td>...</td>\n",
              "      <td>4.0</td>\n",
              "      <td>5.0</td>\n",
              "      <td>10.0</td>\n",
              "      <td>4.300000</td>\n",
              "      <td>1.251666</td>\n",
              "      <td>3.0</td>\n",
              "      <td>3.25</td>\n",
              "      <td>4.0</td>\n",
              "      <td>5.50</td>\n",
              "      <td>6.0</td>\n",
              "    </tr>\n",
              "    <tr>\n",
              "      <th>Brooklin Paulista</th>\n",
              "      <td>247.0</td>\n",
              "      <td>323.676113</td>\n",
              "      <td>158.535909</td>\n",
              "      <td>70.0</td>\n",
              "      <td>205.00</td>\n",
              "      <td>286.0</td>\n",
              "      <td>406.00</td>\n",
              "      <td>874.0</td>\n",
              "      <td>247.0</td>\n",
              "      <td>3.534413</td>\n",
              "      <td>...</td>\n",
              "      <td>5.0</td>\n",
              "      <td>8.0</td>\n",
              "      <td>247.0</td>\n",
              "      <td>3.785425</td>\n",
              "      <td>1.639983</td>\n",
              "      <td>1.0</td>\n",
              "      <td>3.00</td>\n",
              "      <td>4.0</td>\n",
              "      <td>5.00</td>\n",
              "      <td>10.0</td>\n",
              "    </tr>\n",
              "  </tbody>\n",
              "</table>\n",
              "<p>20 rows × 32 columns</p>\n",
              "</div>\n",
              "      <button class=\"colab-df-convert\" onclick=\"convertToInteractive('df-e77f0921-dfeb-473c-8f44-3dd3f0673142')\"\n",
              "              title=\"Convert this dataframe to an interactive table.\"\n",
              "              style=\"display:none;\">\n",
              "        \n",
              "  <svg xmlns=\"http://www.w3.org/2000/svg\" height=\"24px\"viewBox=\"0 0 24 24\"\n",
              "       width=\"24px\">\n",
              "    <path d=\"M0 0h24v24H0V0z\" fill=\"none\"/>\n",
              "    <path d=\"M18.56 5.44l.94 2.06.94-2.06 2.06-.94-2.06-.94-.94-2.06-.94 2.06-2.06.94zm-11 1L8.5 8.5l.94-2.06 2.06-.94-2.06-.94L8.5 2.5l-.94 2.06-2.06.94zm10 10l.94 2.06.94-2.06 2.06-.94-2.06-.94-.94-2.06-.94 2.06-2.06.94z\"/><path d=\"M17.41 7.96l-1.37-1.37c-.4-.4-.92-.59-1.43-.59-.52 0-1.04.2-1.43.59L10.3 9.45l-7.72 7.72c-.78.78-.78 2.05 0 2.83L4 21.41c.39.39.9.59 1.41.59.51 0 1.02-.2 1.41-.59l7.78-7.78 2.81-2.81c.8-.78.8-2.07 0-2.86zM5.41 20L4 18.59l7.72-7.72 1.47 1.35L5.41 20z\"/>\n",
              "  </svg>\n",
              "      </button>\n",
              "      \n",
              "  <style>\n",
              "    .colab-df-container {\n",
              "      display:flex;\n",
              "      flex-wrap:wrap;\n",
              "      gap: 12px;\n",
              "    }\n",
              "\n",
              "    .colab-df-convert {\n",
              "      background-color: #E8F0FE;\n",
              "      border: none;\n",
              "      border-radius: 50%;\n",
              "      cursor: pointer;\n",
              "      display: none;\n",
              "      fill: #1967D2;\n",
              "      height: 32px;\n",
              "      padding: 0 0 0 0;\n",
              "      width: 32px;\n",
              "    }\n",
              "\n",
              "    .colab-df-convert:hover {\n",
              "      background-color: #E2EBFA;\n",
              "      box-shadow: 0px 1px 2px rgba(60, 64, 67, 0.3), 0px 1px 3px 1px rgba(60, 64, 67, 0.15);\n",
              "      fill: #174EA6;\n",
              "    }\n",
              "\n",
              "    [theme=dark] .colab-df-convert {\n",
              "      background-color: #3B4455;\n",
              "      fill: #D2E3FC;\n",
              "    }\n",
              "\n",
              "    [theme=dark] .colab-df-convert:hover {\n",
              "      background-color: #434B5C;\n",
              "      box-shadow: 0px 1px 3px 1px rgba(0, 0, 0, 0.15);\n",
              "      filter: drop-shadow(0px 1px 2px rgba(0, 0, 0, 0.3));\n",
              "      fill: #FFFFFF;\n",
              "    }\n",
              "  </style>\n",
              "\n",
              "      <script>\n",
              "        const buttonEl =\n",
              "          document.querySelector('#df-e77f0921-dfeb-473c-8f44-3dd3f0673142 button.colab-df-convert');\n",
              "        buttonEl.style.display =\n",
              "          google.colab.kernel.accessAllowed ? 'block' : 'none';\n",
              "\n",
              "        async function convertToInteractive(key) {\n",
              "          const element = document.querySelector('#df-e77f0921-dfeb-473c-8f44-3dd3f0673142');\n",
              "          const dataTable =\n",
              "            await google.colab.kernel.invokeFunction('convertToInteractive',\n",
              "                                                     [key], {});\n",
              "          if (!dataTable) return;\n",
              "\n",
              "          const docLinkHtml = 'Like what you see? Visit the ' +\n",
              "            '<a target=\"_blank\" href=https://colab.research.google.com/notebooks/data_table.ipynb>data table notebook</a>'\n",
              "            + ' to learn more about interactive tables.';\n",
              "          element.innerHTML = '';\n",
              "          dataTable['output_type'] = 'display_data';\n",
              "          await google.colab.output.renderOutput(dataTable, element);\n",
              "          const docLink = document.createElement('div');\n",
              "          docLink.innerHTML = docLinkHtml;\n",
              "          element.appendChild(docLink);\n",
              "        }\n",
              "      </script>\n",
              "    </div>\n",
              "  </div>\n",
              "  "
            ]
          },
          "metadata": {},
          "execution_count": 9
        }
      ]
    },
    {
      "cell_type": "markdown",
      "source": [
        "Podemos realizar um gráfico de box_plot que define de forma gráfica todos os valores observados pela função describe(). Para isso, iremos utilizar o pacote seaborn para definir este gráfico da seguinte forma:"
      ],
      "metadata": {
        "id": "6kT2joTT_19f"
      }
    },
    {
      "cell_type": "code",
      "source": [
        "import matplotlib.pyplot as plt\n",
        "import seaborn as sns\n"
      ],
      "metadata": {
        "id": "gS9HefuyAEYc"
      },
      "execution_count": 10,
      "outputs": []
    },
    {
      "cell_type": "markdown",
      "source": [
        "Agora podemos desenvolver o gráfico de box plot de cada coluna presente na tabela describe()"
      ],
      "metadata": {
        "id": "UxdlVn2ZA5Qg"
      }
    },
    {
      "cell_type": "code",
      "source": [
        "sns.set()\n",
        "plt.figure(figsize=(10, 8))\n",
        "vila_mariana_graph = sns.boxplot(data=imoveis_vila_mariana)"
      ],
      "metadata": {
        "id": "ePuNHZSvA4ra"
      },
      "execution_count": null,
      "outputs": []
    },
    {
      "cell_type": "markdown",
      "source": [
        "Percebe-se que o gráfico é pouco descritivo, pois os atributos apresentam dimensões diferentes, não sendo possível compará-los. Este gráfico seria mais indicado para comparar a metragem entre bairros, por exemplo. Para exemplificar, vamos utilizar apenas o valor metragem. Para isso, chamamos novamente a função."
      ],
      "metadata": {
        "id": "TF1lh9PRBduM"
      }
    },
    {
      "cell_type": "code",
      "source": [
        "sns.set()\n",
        "plt.figure(figsize=(10, 8))\n",
        "vila_mariana_graph = sns.boxplot(data=imoveis_vila_mariana)"
      ],
      "metadata": {
        "id": "WQ9MiQXWBttw"
      },
      "execution_count": null,
      "outputs": []
    },
    {
      "cell_type": "markdown",
      "source": [
        "Podemos observar que o conjunto de dados em metragem apresenta um outlier em 650, indicando que a casa pode ser diferente do tamanho padrão em Vila_Mariana ou pode haver um problema em sua aquisição. No entanto, existem outliers em outras categorias (quartos, banheiros e vagas) que apresentam valores elevados, podendo estar associado a mesma casa que tem 650 m² de área. Para checarmos, vamos localizar a linha que apresenta tal informação."
      ],
      "metadata": {
        "id": "xiyTp3GFB-fp"
      }
    },
    {
      "cell_type": "code",
      "source": [
        "imoveis_vila_mariana.loc[imoveis_vila_mariana['Metragem'] == 650]\n"
      ],
      "metadata": {
        "id": "6-3yEjA2Cm8D"
      },
      "execution_count": null,
      "outputs": []
    },
    {
      "cell_type": "markdown",
      "source": [
        "A casa em questão apresenta 4 quartos, 1 banheiro e 8 vagas, o que pode justificar a área de 650 m². Podemos investigar o mesmo para outros atributos."
      ],
      "metadata": {
        "id": "uOs7vvsUF-Zb"
      }
    },
    {
      "cell_type": "code",
      "source": [
        "imoveis_vila_mariana.loc[imoveis_vila_mariana['Banheiros'] == 8]\n"
      ],
      "metadata": {
        "id": "0fbNTPBsGAVR"
      },
      "execution_count": null,
      "outputs": []
    },
    {
      "cell_type": "markdown",
      "source": [
        "Estimando o maior valor de numero de banheiros (8), a casa é diferente daquela que tem metragem de 650 m². Quanto ao número de vagas, podemos fazer a seguinte avaliação: "
      ],
      "metadata": {
        "id": "ghfvEBtluNUn"
      }
    },
    {
      "cell_type": "code",
      "source": [
        "imoveis_vila_mariana.loc[imoveis_vila_mariana['Vagas'] == 10]\n"
      ],
      "metadata": {
        "id": "AMhS2F7GwOs3"
      },
      "execution_count": null,
      "outputs": []
    },
    {
      "cell_type": "code",
      "source": [
        "imoveis_vila_mariana.loc[imoveis_vila_mariana['Quartos'] == 11]"
      ],
      "metadata": {
        "id": "89aLXYdXwcVW"
      },
      "execution_count": null,
      "outputs": []
    },
    {
      "cell_type": "markdown",
      "source": [
        "Observa-se que procurando lugares por vagas, existem duas linhas com informações próximas. Seria necessário entrar em contato com algum especialista para averiguar se de fato há duas casas com características semelhantes ou se a informação está duplicada. Essa e outras explorações podem ser feitas com os dados em questão. No caso, vamos para a resolução dos desafios para finalizarmos este primeiro notebook."
      ],
      "metadata": {
        "id": "wTGHC9hywhcW"
      }
    },
    {
      "cell_type": "markdown",
      "source": [
        "Desafios\n",
        "\n",
        "\n",
        "1 - Realizar a média da metragem para cada um dos bairros (Paulo)\n",
        "\n",
        "2 - 2 Formas de selecionar os dados por bairro (consultar os métodos na documentação do pandas)\n",
        "\n",
        "3 - Explorar alguns gráficos na documentação e aplicar na demais colunas do DF e tentar colocar alguma conclusão\n",
        "\n",
        "4 - Pegar outras estatísticas dos dados, média, mediana, min, max.\n",
        "\n",
        "5 - Descobrir quais são os bairros que não tem nome de rua.**bold text**"
      ],
      "metadata": {
        "id": "lHTPWLBLLmM-"
      }
    },
    {
      "cell_type": "markdown",
      "source": [
        "## 1 - Realizar a média da metragem para cada um dos bairros (Paulo)\n",
        "\n"
      ],
      "metadata": {
        "id": "X3K52wTONwyw"
      }
    },
    {
      "cell_type": "markdown",
      "source": [
        "Vamos primeiramente agrupar os imóveis por bairro. Para isso, utilizamos a função groupby e chamamos a função para realizar a estatística descritiva de cada atributo numerico (Banheiros, quartos, vagas).\n",
        "\n"
      ],
      "metadata": {
        "id": "CWtJUZfIbMkd"
      }
    },
    {
      "cell_type": "code",
      "source": [
        "media_metragem_bairro = df.groupby('Bairro').describe().round(2) #Agrupa os dados e nos trás informação de metragem por bairro.\n",
        "media_metragem_bairro = pd.DataFrame(data=media_metragem_bairro['Metragem']) # Converte o grupo Metragem\n"
      ],
      "metadata": {
        "id": "_OI5OdWtFhwY"
      },
      "execution_count": null,
      "outputs": []
    },
    {
      "cell_type": "markdown",
      "source": [
        "Modificaremos, em seguida o nome dos atributos obtidos durante o agrupamento dos imóveis por bairro. Podemos, também, reorganizar os bairros por quantidade de imóveis contabilizados na cidade de são paulo. Bairros que apresentam muitos poucos imóveis podem gerar equivocos na aquisição de alguns valores estatísticos por não apresentar um número de amostras significativos. Portanto, vamos trabalhar com os 20 bairros com maiores números de imóveis. "
      ],
      "metadata": {
        "id": "Ocs689xrxQCb"
      }
    },
    {
      "cell_type": "code",
      "source": [
        "media_metragem_bairro.columns = ['count', 'mean', 'std', 'min', '25', '50', '75', 'max']\n",
        "media_metragem_bairro = media_metragem_bairro.sort_values(by='count', ascending=False)\n",
        "media_metragem_bairro"
      ],
      "metadata": {
        "id": "bctWgXhPngW8"
      },
      "execution_count": null,
      "outputs": []
    },
    {
      "cell_type": "code",
      "source": [
        "media_metragem_bairro.head(20)\n"
      ],
      "metadata": {
        "id": "5RYGV9ZSLD2r"
      },
      "execution_count": null,
      "outputs": []
    },
    {
      "cell_type": "markdown",
      "source": [
        "Vamos atribuir uma variável aos 20 bairros com maior numero de imoveis."
      ],
      "metadata": {
        "id": "idCTaFPj--hz"
      }
    },
    {
      "cell_type": "code",
      "source": [
        "top20_media_metragem_bairro = media_metragem_bairro.head(20).reset_index()\n",
        "top20_media_metragem_bairro.head()"
      ],
      "metadata": {
        "id": "12NrJEtx_Ei1"
      },
      "execution_count": null,
      "outputs": []
    },
    {
      "cell_type": "markdown",
      "source": [
        "Uma segunda forma de realizar o mesmo objetivo está descrito logo abaixo. A diferença é que as funções ao invés de serem realizados em duas linhas, foram feitas em apenas uma."
      ],
      "metadata": {
        "id": "O35MnwMsx70J"
      }
    },
    {
      "cell_type": "code",
      "source": [
        "media_metragem_bairro2 = df.groupby(\"Bairro\")\n",
        "media_metragem_bairro2 = pd.DataFrame(data=media_metragem_bairro2[\"Metragem\"].describe().round(0)).sort_values(by='count', ascending=False).reset_index()\n",
        "media_metragem_bairro2"
      ],
      "metadata": {
        "id": "n8u4OxNzFhzu"
      },
      "execution_count": null,
      "outputs": []
    },
    {
      "cell_type": "markdown",
      "source": [
        "As duas tabelas foram obtidas igualmente. Podemos construir um gráfico com a metragem média dos 20 bairros com maior número de imóveis.\n"
      ],
      "metadata": {
        "id": "lTnRn4nDyYVf"
      }
    },
    {
      "cell_type": "code",
      "source": [
        "top20_media_metragem_bairro_graph = top20_media_metragem_bairro.head(20)\n",
        "top20_media_metragem_bairro_graph.plot.bar(x='Bairro', y='mean')"
      ],
      "metadata": {
        "id": "MtqO-PrALmAJ"
      },
      "execution_count": null,
      "outputs": []
    },
    {
      "cell_type": "markdown",
      "source": [
        "Vamos também fazer um histograma para observar a distribuição de metragem por bairro. Para isso vamos escrever o código abaixo."
      ],
      "metadata": {
        "id": "aIp-PVIqywit"
      }
    },
    {
      "cell_type": "code",
      "source": [
        "plt.show()\n",
        "media_metragem_bairro['mean'].plot.hist(by=media_metragem_bairro['mean'], xlabel='Metragem (m²)', ylabel='Nº de Imoveis', range=(1, 800), bins=20, figsize=(10,8), title='Histograma da média de Metragem dos Bairros de São Paulo')\n"
      ],
      "metadata": {
        "id": "ILeqgFF6y3RG"
      },
      "execution_count": null,
      "outputs": []
    },
    {
      "cell_type": "markdown",
      "source": [
        "Observa-se que boa parte dos bairros apresentam metragem média centrada entre 100 a 200 m², podendo estar atrelado ao tamanho da família e a renda média familiar. Imóveis com metragem acima desse intervalo podem estar atrelados a família com renda família acima da média. "
      ],
      "metadata": {
        "id": "IQPLBRly0LuB"
      }
    },
    {
      "cell_type": "markdown",
      "source": [
        "## 2 - 2 Formas de selecionar os dados por bairro (consultar os métodos na documentação do pandas)\n"
      ],
      "metadata": {
        "id": "gqIUoOPhtuIF"
      }
    },
    {
      "cell_type": "markdown",
      "source": [
        "A primeira forma de selecionar o bairro em específico pode ser pelo código abaixo chamando a função .query()"
      ],
      "metadata": {
        "id": "YfMl3RIW1YLV"
      }
    },
    {
      "cell_type": "code",
      "source": [
        "planalto_paulista = df.query(\"Bairro == 'Planalto Paulista'\")\n",
        "planalto_paulista"
      ],
      "metadata": {
        "id": "eocqqV8MWArT"
      },
      "execution_count": null,
      "outputs": []
    },
    {
      "cell_type": "markdown",
      "source": [
        "A segunda forma pode ser realizado pela função loc que procura também especificamente por Bairros que apresentem como nome o bairro Planalto Paulista"
      ],
      "metadata": {
        "id": "WBj84acO1db7"
      }
    },
    {
      "cell_type": "code",
      "source": [
        "bairro_planalto_paulista = df.loc[df['Bairro'] == 'Planalto Paulista']\n",
        "bairro_planalto_paulista.head()"
      ],
      "metadata": {
        "id": "UKK9KK8gvuEC"
      },
      "execution_count": null,
      "outputs": []
    },
    {
      "cell_type": "markdown",
      "source": [
        "## 3 - Explorar alguns gráficos na documentação e aplicar na demais colunas do DF e tentar colocar alguma conclusão"
      ],
      "metadata": {
        "id": "t4tusRwQ2OUp"
      }
    },
    {
      "cell_type": "markdown",
      "source": [
        "Vamos avaliar graficamente os valores médios e o valor central dos 20 bairros com maior numero de imóveis."
      ],
      "metadata": {
        "id": "Wa96XfGu2RHI"
      }
    },
    {
      "cell_type": "code",
      "source": [
        "top20_media_metragem_bairro_graph = top20_media_metragem_bairro\n",
        "top20_media_metragem_bairro_graph.plot.bar(x='Bairro', y='mean')"
      ],
      "metadata": {
        "id": "_rqZdbvxulyA"
      },
      "execution_count": null,
      "outputs": []
    },
    {
      "cell_type": "code",
      "source": [
        "top20_media_metragem_bairro_graph = top20_media_metragem_bairro\n",
        "top20_media_metragem_bairro_graph.plot.bar(x='Bairro', y='50')"
      ],
      "metadata": {
        "id": "zGXRse-MIJ0g"
      },
      "execution_count": null,
      "outputs": []
    },
    {
      "cell_type": "markdown",
      "source": [
        "Cada bairro apresenta o valor médio, mediana, os quartis, o desvio padrão (extremamente importante para determinar o grau de dispersão dos valores; o min e max. Alguns desses valores nos permitem construir o boxplot. Para isso, escrevemos o seguinte código:"
      ],
      "metadata": {
        "id": "sl0Nb8zK3PaX"
      }
    },
    {
      "cell_type": "code",
      "source": [
        "sns.set()\n",
        "plt.figure(figsize=(10, 8))\n",
        "plt.xticks(rotation=90)\n",
        "top20_media_metragem_bairro['mean'].plot.box()"
      ],
      "metadata": {
        "id": "Vv7O31Nn3zzk"
      },
      "execution_count": null,
      "outputs": []
    },
    {
      "cell_type": "markdown",
      "source": [
        "Existe um outlier no valor máximo de 750000. Vamos ignorar por enquanto esse valor e vamos limitar a escala do eixo y. Vamos repetir o código acima, porém acrescentando determinada informação."
      ],
      "metadata": {
        "id": "dndoXc-r5Bcf"
      }
    },
    {
      "cell_type": "code",
      "source": [
        "sns.set()\n",
        "plt.figure(figsize=(10, 8))\n",
        "plt.ylim(200, 800)\n",
        "plt.xticks(rotation=90)\n",
        "top20_media_metragem_bairro['mean'].plot.box()"
      ],
      "metadata": {
        "id": "n02p5ZOp5K4_"
      },
      "execution_count": null,
      "outputs": []
    },
    {
      "cell_type": "markdown",
      "source": [
        "## 4 - Pegar outras estatísticas dos dados, média, mediana, min, max."
      ],
      "metadata": {
        "id": "m47FiJlorehX"
      }
    },
    {
      "cell_type": "markdown",
      "source": [
        "Para pegarmos as estatísticas de outros dados, basta escrever a função .describe(). Logo, escrevemos o código abaixo."
      ],
      "metadata": {
        "id": "ud1JcO80TCM3"
      }
    },
    {
      "cell_type": "code",
      "source": [
        "df.describe()"
      ],
      "metadata": {
        "id": "nInPl3QavuIe"
      },
      "execution_count": null,
      "outputs": []
    },
    {
      "cell_type": "markdown",
      "source": [
        "Podemos também definir os mesmos valores por bairro. Para isso, chamamos a função groupby para isso utilizando além dessa função, uma função que ordene os valores por número de imoveis listados por bairro sort_values(), conforme descrito abaixo."
      ],
      "metadata": {
        "id": "BN3vGXLWTSV1"
      }
    },
    {
      "cell_type": "code",
      "source": [
        "df_group = df.groupby('Bairro')\n",
        "df_group = pd.DataFrame(data=df_group[\"Metragem\"].describe().round(2)).sort_values(by='count', ascending=False)"
      ],
      "metadata": {
        "id": "WZ4-Rp19vuMx"
      },
      "execution_count": null,
      "outputs": []
    },
    {
      "cell_type": "code",
      "source": [
        "df_group.head(20)"
      ],
      "metadata": {
        "id": "Zy4b_IWpvuQ1"
      },
      "execution_count": null,
      "outputs": []
    },
    {
      "cell_type": "code",
      "source": [
        "df_group['mean'].head(20).sort_values(ascending=False).plot.bar()"
      ],
      "metadata": {
        "id": "0fQ_2wzxvuUU"
      },
      "execution_count": null,
      "outputs": []
    },
    {
      "cell_type": "markdown",
      "source": [
        "5 - Descobrir quais são os bairros que não tem nome de rua. Para isso, vamos explorar a função isna() que localiza por booleano as linhas que apresentam células vazias na coluna \"Rua\"."
      ],
      "metadata": {
        "id": "kxIny5sW5UWI"
      }
    },
    {
      "cell_type": "code",
      "source": [
        "rua_semnome = df['Rua'].isna()\n",
        "rua_semnome.sum()"
      ],
      "metadata": {
        "id": "2kS0-5JgvuYJ"
      },
      "execution_count": null,
      "outputs": []
    },
    {
      "cell_type": "markdown",
      "source": [
        "Existem ao todo 3434 casas sem endereço. Vamos aprofundar um pouco mais e tentar encontrar o número de casas sem nome de rua por bairro."
      ],
      "metadata": {
        "id": "z_GpwTl7U_JD"
      }
    },
    {
      "cell_type": "code",
      "source": [
        "bairro_sem_nome = df.groupby(['Bairro'])['Rua'].apply(lambda x: x.isnull().sum())\n",
        "bairro_sem_nome.sum()"
      ],
      "metadata": {
        "id": "gfc-Xi6yVZbc"
      },
      "execution_count": null,
      "outputs": []
    },
    {
      "cell_type": "markdown",
      "source": [
        "Conseguimos, assim listar o número de "
      ],
      "metadata": {
        "id": "_JBO7WwTZJSt"
      }
    },
    {
      "cell_type": "code",
      "source": [
        "bairro_sem_nome.head(20).sort_values(ascending=False)\n",
        "bairro_sem_nome"
      ],
      "metadata": {
        "id": "ZlGQWQjEZCyE"
      },
      "execution_count": null,
      "outputs": []
    }
  ]
}